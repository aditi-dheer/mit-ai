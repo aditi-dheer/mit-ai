{
 "cells": [
  {
   "cell_type": "markdown",
   "metadata": {},
   "source": [
    "# Assignment 4: Optimizing Logistic Regression"
   ]
  },
  {
   "cell_type": "code",
   "execution_count": 6,
   "metadata": {},
   "outputs": [],
   "source": [
    "import pandas as pd\n",
    "import numpy as np\n",
    "import os \n",
    "import matplotlib.pyplot as plt\n",
    "import seaborn as sns\n",
    "%matplotlib inline\n",
    "\n",
    "from sklearn.linear_model import LogisticRegression\n",
    "from sklearn.model_selection import train_test_split \n",
    "from sklearn.metrics import log_loss\n",
    "from sklearn.metrics import accuracy_score"
   ]
  },
  {
   "cell_type": "markdown",
   "metadata": {},
   "source": [
    "## Part 1. Build DataFrame and Define ML Problem"
   ]
  },
  {
   "cell_type": "markdown",
   "metadata": {},
   "source": [
    "#### Load a Data Set and Save it as a Pandas DataFrame"
   ]
  },
  {
   "cell_type": "markdown",
   "metadata": {},
   "source": [
    "We will work with the \"cell2celltrain\" data set. This version of the data set has been preprocessed and is ready for modeling."
   ]
  },
  {
   "cell_type": "code",
   "execution_count": 7,
   "metadata": {},
   "outputs": [],
   "source": [
    "filename = os.path.join(os.getcwd(), \"..\", \"..\", \"data\", \"cell2celltrain.csv\")"
   ]
  },
  {
   "cell_type": "code",
   "execution_count": 8,
   "metadata": {},
   "outputs": [],
   "source": [
    "df = pd.read_csv(filename)"
   ]
  },
  {
   "cell_type": "markdown",
   "metadata": {},
   "source": [
    "#### Define the Label\n",
    "\n",
    "This is a binary classification problem in which we will predict customer churn. The label is the `Churn` column."
   ]
  },
  {
   "cell_type": "markdown",
   "metadata": {},
   "source": [
    "#### Identify Features\n",
    "\n",
    "To implement a Logistic Regression model, we must use only the numeric columns. "
   ]
  },
  {
   "cell_type": "code",
   "execution_count": 9,
   "metadata": {},
   "outputs": [
    {
     "data": {
      "text/html": [
       "<div>\n",
       "<style scoped>\n",
       "    .dataframe tbody tr th:only-of-type {\n",
       "        vertical-align: middle;\n",
       "    }\n",
       "\n",
       "    .dataframe tbody tr th {\n",
       "        vertical-align: top;\n",
       "    }\n",
       "\n",
       "    .dataframe thead th {\n",
       "        text-align: right;\n",
       "    }\n",
       "</style>\n",
       "<table border=\"1\" class=\"dataframe\">\n",
       "  <thead>\n",
       "    <tr style=\"text-align: right;\">\n",
       "      <th></th>\n",
       "      <th>MonthlyRevenue</th>\n",
       "      <th>MonthlyMinutes</th>\n",
       "      <th>TotalRecurringCharge</th>\n",
       "      <th>DirectorAssistedCalls</th>\n",
       "      <th>OverageMinutes</th>\n",
       "      <th>RoamingCalls</th>\n",
       "      <th>PercChangeMinutes</th>\n",
       "      <th>PercChangeRevenues</th>\n",
       "      <th>DroppedCalls</th>\n",
       "      <th>BlockedCalls</th>\n",
       "      <th>...</th>\n",
       "      <th>HandsetModels</th>\n",
       "      <th>CurrentEquipmentDays</th>\n",
       "      <th>AgeHH1</th>\n",
       "      <th>AgeHH2</th>\n",
       "      <th>RetentionCalls</th>\n",
       "      <th>RetentionOffersAccepted</th>\n",
       "      <th>ReferralsMadeBySubscriber</th>\n",
       "      <th>IncomeGroup</th>\n",
       "      <th>AdjustmentsToCreditRating</th>\n",
       "      <th>HandsetPrice</th>\n",
       "    </tr>\n",
       "  </thead>\n",
       "  <tbody>\n",
       "    <tr>\n",
       "      <th>0</th>\n",
       "      <td>-0.782676</td>\n",
       "      <td>-0.578738</td>\n",
       "      <td>-1.041153</td>\n",
       "      <td>-0.289532</td>\n",
       "      <td>-0.414422</td>\n",
       "      <td>-0.125914</td>\n",
       "      <td>-0.564836</td>\n",
       "      <td>-0.449987</td>\n",
       "      <td>-0.587303</td>\n",
       "      <td>-0.309284</td>\n",
       "      <td>...</td>\n",
       "      <td>0.487071</td>\n",
       "      <td>-0.077013</td>\n",
       "      <td>1.387766</td>\n",
       "      <td>-0.883541</td>\n",
       "      <td>4.662897</td>\n",
       "      <td>-0.128300</td>\n",
       "      <td>-0.169283</td>\n",
       "      <td>-0.103411</td>\n",
       "      <td>-0.140707</td>\n",
       "      <td>-0.864858</td>\n",
       "    </tr>\n",
       "    <tr>\n",
       "      <th>1</th>\n",
       "      <td>-0.940180</td>\n",
       "      <td>-0.973177</td>\n",
       "      <td>-1.250809</td>\n",
       "      <td>-0.401714</td>\n",
       "      <td>-0.414422</td>\n",
       "      <td>-0.125914</td>\n",
       "      <td>0.029311</td>\n",
       "      <td>0.030120</td>\n",
       "      <td>-0.631532</td>\n",
       "      <td>-0.373230</td>\n",
       "      <td>...</td>\n",
       "      <td>-0.616775</td>\n",
       "      <td>3.019920</td>\n",
       "      <td>0.392039</td>\n",
       "      <td>0.871495</td>\n",
       "      <td>-0.180167</td>\n",
       "      <td>-0.128300</td>\n",
       "      <td>-0.169283</td>\n",
       "      <td>0.215243</td>\n",
       "      <td>-0.140707</td>\n",
       "      <td>-0.864858</td>\n",
       "    </tr>\n",
       "    <tr>\n",
       "      <th>2</th>\n",
       "      <td>-0.468118</td>\n",
       "      <td>-0.976952</td>\n",
       "      <td>-0.370255</td>\n",
       "      <td>-0.401714</td>\n",
       "      <td>-0.414422</td>\n",
       "      <td>-0.125914</td>\n",
       "      <td>0.037077</td>\n",
       "      <td>0.030120</td>\n",
       "      <td>-0.664703</td>\n",
       "      <td>-0.373230</td>\n",
       "      <td>...</td>\n",
       "      <td>-0.616775</td>\n",
       "      <td>3.019920</td>\n",
       "      <td>-0.241605</td>\n",
       "      <td>0.202910</td>\n",
       "      <td>-0.180167</td>\n",
       "      <td>-0.128300</td>\n",
       "      <td>-0.169283</td>\n",
       "      <td>0.533896</td>\n",
       "      <td>-0.140707</td>\n",
       "      <td>-0.368174</td>\n",
       "    </tr>\n",
       "    <tr>\n",
       "      <th>3</th>\n",
       "      <td>0.526784</td>\n",
       "      <td>1.484048</td>\n",
       "      <td>1.181196</td>\n",
       "      <td>0.154708</td>\n",
       "      <td>-0.414422</td>\n",
       "      <td>-0.125914</td>\n",
       "      <td>0.654524</td>\n",
       "      <td>0.234797</td>\n",
       "      <td>4.012499</td>\n",
       "      <td>0.330172</td>\n",
       "      <td>...</td>\n",
       "      <td>2.694763</td>\n",
       "      <td>0.305179</td>\n",
       "      <td>-0.060564</td>\n",
       "      <td>-0.883541</td>\n",
       "      <td>-0.180167</td>\n",
       "      <td>-0.128300</td>\n",
       "      <td>-0.169283</td>\n",
       "      <td>0.533896</td>\n",
       "      <td>-0.140707</td>\n",
       "      <td>-1.195980</td>\n",
       "    </tr>\n",
       "    <tr>\n",
       "      <th>4</th>\n",
       "      <td>-0.936810</td>\n",
       "      <td>-0.992050</td>\n",
       "      <td>-1.250809</td>\n",
       "      <td>-0.401714</td>\n",
       "      <td>-0.414422</td>\n",
       "      <td>-0.125914</td>\n",
       "      <td>0.044844</td>\n",
       "      <td>0.025066</td>\n",
       "      <td>-0.664703</td>\n",
       "      <td>-0.373230</td>\n",
       "      <td>...</td>\n",
       "      <td>1.590917</td>\n",
       "      <td>1.857585</td>\n",
       "      <td>0.663601</td>\n",
       "      <td>1.372934</td>\n",
       "      <td>-0.180167</td>\n",
       "      <td>-0.128300</td>\n",
       "      <td>-0.169283</td>\n",
       "      <td>1.489856</td>\n",
       "      <td>2.469282</td>\n",
       "      <td>-1.195980</td>\n",
       "    </tr>\n",
       "    <tr>\n",
       "      <th>...</th>\n",
       "      <td>...</td>\n",
       "      <td>...</td>\n",
       "      <td>...</td>\n",
       "      <td>...</td>\n",
       "      <td>...</td>\n",
       "      <td>...</td>\n",
       "      <td>...</td>\n",
       "      <td>...</td>\n",
       "      <td>...</td>\n",
       "      <td>...</td>\n",
       "      <td>...</td>\n",
       "      <td>...</td>\n",
       "      <td>...</td>\n",
       "      <td>...</td>\n",
       "      <td>...</td>\n",
       "      <td>...</td>\n",
       "      <td>...</td>\n",
       "      <td>...</td>\n",
       "      <td>...</td>\n",
       "      <td>...</td>\n",
       "      <td>...</td>\n",
       "    </tr>\n",
       "    <tr>\n",
       "      <th>51042</th>\n",
       "      <td>-0.233099</td>\n",
       "      <td>-0.301309</td>\n",
       "      <td>-0.076738</td>\n",
       "      <td>-0.289532</td>\n",
       "      <td>-0.383361</td>\n",
       "      <td>-0.125914</td>\n",
       "      <td>0.025428</td>\n",
       "      <td>0.022539</td>\n",
       "      <td>0.363618</td>\n",
       "      <td>-0.126582</td>\n",
       "      <td>...</td>\n",
       "      <td>0.487071</td>\n",
       "      <td>0.573107</td>\n",
       "      <td>1.659328</td>\n",
       "      <td>1.790800</td>\n",
       "      <td>-0.180167</td>\n",
       "      <td>-0.128300</td>\n",
       "      <td>-0.169283</td>\n",
       "      <td>0.533896</td>\n",
       "      <td>-0.140707</td>\n",
       "      <td>-0.368174</td>\n",
       "    </tr>\n",
       "    <tr>\n",
       "      <th>51043</th>\n",
       "      <td>0.816402</td>\n",
       "      <td>2.301236</td>\n",
       "      <td>1.600507</td>\n",
       "      <td>0.042526</td>\n",
       "      <td>0.051479</td>\n",
       "      <td>0.352789</td>\n",
       "      <td>0.518608</td>\n",
       "      <td>0.431894</td>\n",
       "      <td>1.181852</td>\n",
       "      <td>-0.309284</td>\n",
       "      <td>...</td>\n",
       "      <td>0.487071</td>\n",
       "      <td>0.328819</td>\n",
       "      <td>0.754122</td>\n",
       "      <td>1.122214</td>\n",
       "      <td>-0.180167</td>\n",
       "      <td>-0.128300</td>\n",
       "      <td>-0.169283</td>\n",
       "      <td>1.489856</td>\n",
       "      <td>2.469282</td>\n",
       "      <td>-0.368174</td>\n",
       "    </tr>\n",
       "    <tr>\n",
       "      <th>51044</th>\n",
       "      <td>-0.233099</td>\n",
       "      <td>-0.301309</td>\n",
       "      <td>-0.076738</td>\n",
       "      <td>-0.289532</td>\n",
       "      <td>-0.383361</td>\n",
       "      <td>-0.125914</td>\n",
       "      <td>0.025428</td>\n",
       "      <td>0.022539</td>\n",
       "      <td>4.012499</td>\n",
       "      <td>0.019579</td>\n",
       "      <td>...</td>\n",
       "      <td>0.487071</td>\n",
       "      <td>-0.010031</td>\n",
       "      <td>0.210998</td>\n",
       "      <td>-0.883541</td>\n",
       "      <td>-0.180167</td>\n",
       "      <td>-0.128300</td>\n",
       "      <td>-0.169283</td>\n",
       "      <td>0.852549</td>\n",
       "      <td>2.469282</td>\n",
       "      <td>-0.037051</td>\n",
       "    </tr>\n",
       "    <tr>\n",
       "      <th>51045</th>\n",
       "      <td>-0.233099</td>\n",
       "      <td>-0.301309</td>\n",
       "      <td>-0.076738</td>\n",
       "      <td>-0.289532</td>\n",
       "      <td>-0.383361</td>\n",
       "      <td>-0.125914</td>\n",
       "      <td>0.025428</td>\n",
       "      <td>0.022539</td>\n",
       "      <td>-0.664703</td>\n",
       "      <td>-0.373230</td>\n",
       "      <td>...</td>\n",
       "      <td>0.487071</td>\n",
       "      <td>0.206676</td>\n",
       "      <td>0.029957</td>\n",
       "      <td>-0.883541</td>\n",
       "      <td>-0.180167</td>\n",
       "      <td>-0.128300</td>\n",
       "      <td>-0.169283</td>\n",
       "      <td>1.489856</td>\n",
       "      <td>-0.140707</td>\n",
       "      <td>-0.864858</td>\n",
       "    </tr>\n",
       "    <tr>\n",
       "      <th>51046</th>\n",
       "      <td>-0.233099</td>\n",
       "      <td>-0.301309</td>\n",
       "      <td>-0.076738</td>\n",
       "      <td>-0.289532</td>\n",
       "      <td>-0.383361</td>\n",
       "      <td>-0.125914</td>\n",
       "      <td>0.025428</td>\n",
       "      <td>0.022539</td>\n",
       "      <td>1.402996</td>\n",
       "      <td>-0.309284</td>\n",
       "      <td>...</td>\n",
       "      <td>3.798609</td>\n",
       "      <td>-1.203887</td>\n",
       "      <td>-1.418373</td>\n",
       "      <td>-0.883541</td>\n",
       "      <td>4.662897</td>\n",
       "      <td>6.891363</td>\n",
       "      <td>-0.169283</td>\n",
       "      <td>-1.378025</td>\n",
       "      <td>2.469282</td>\n",
       "      <td>-0.368174</td>\n",
       "    </tr>\n",
       "  </tbody>\n",
       "</table>\n",
       "<p>51047 rows × 35 columns</p>\n",
       "</div>"
      ],
      "text/plain": [
       "       MonthlyRevenue  MonthlyMinutes  TotalRecurringCharge  \\\n",
       "0           -0.782676       -0.578738             -1.041153   \n",
       "1           -0.940180       -0.973177             -1.250809   \n",
       "2           -0.468118       -0.976952             -0.370255   \n",
       "3            0.526784        1.484048              1.181196   \n",
       "4           -0.936810       -0.992050             -1.250809   \n",
       "...               ...             ...                   ...   \n",
       "51042       -0.233099       -0.301309             -0.076738   \n",
       "51043        0.816402        2.301236              1.600507   \n",
       "51044       -0.233099       -0.301309             -0.076738   \n",
       "51045       -0.233099       -0.301309             -0.076738   \n",
       "51046       -0.233099       -0.301309             -0.076738   \n",
       "\n",
       "       DirectorAssistedCalls  OverageMinutes  RoamingCalls  PercChangeMinutes  \\\n",
       "0                  -0.289532       -0.414422     -0.125914          -0.564836   \n",
       "1                  -0.401714       -0.414422     -0.125914           0.029311   \n",
       "2                  -0.401714       -0.414422     -0.125914           0.037077   \n",
       "3                   0.154708       -0.414422     -0.125914           0.654524   \n",
       "4                  -0.401714       -0.414422     -0.125914           0.044844   \n",
       "...                      ...             ...           ...                ...   \n",
       "51042              -0.289532       -0.383361     -0.125914           0.025428   \n",
       "51043               0.042526        0.051479      0.352789           0.518608   \n",
       "51044              -0.289532       -0.383361     -0.125914           0.025428   \n",
       "51045              -0.289532       -0.383361     -0.125914           0.025428   \n",
       "51046              -0.289532       -0.383361     -0.125914           0.025428   \n",
       "\n",
       "       PercChangeRevenues  DroppedCalls  BlockedCalls  ...  HandsetModels  \\\n",
       "0               -0.449987     -0.587303     -0.309284  ...       0.487071   \n",
       "1                0.030120     -0.631532     -0.373230  ...      -0.616775   \n",
       "2                0.030120     -0.664703     -0.373230  ...      -0.616775   \n",
       "3                0.234797      4.012499      0.330172  ...       2.694763   \n",
       "4                0.025066     -0.664703     -0.373230  ...       1.590917   \n",
       "...                   ...           ...           ...  ...            ...   \n",
       "51042            0.022539      0.363618     -0.126582  ...       0.487071   \n",
       "51043            0.431894      1.181852     -0.309284  ...       0.487071   \n",
       "51044            0.022539      4.012499      0.019579  ...       0.487071   \n",
       "51045            0.022539     -0.664703     -0.373230  ...       0.487071   \n",
       "51046            0.022539      1.402996     -0.309284  ...       3.798609   \n",
       "\n",
       "       CurrentEquipmentDays    AgeHH1    AgeHH2  RetentionCalls  \\\n",
       "0                 -0.077013  1.387766 -0.883541        4.662897   \n",
       "1                  3.019920  0.392039  0.871495       -0.180167   \n",
       "2                  3.019920 -0.241605  0.202910       -0.180167   \n",
       "3                  0.305179 -0.060564 -0.883541       -0.180167   \n",
       "4                  1.857585  0.663601  1.372934       -0.180167   \n",
       "...                     ...       ...       ...             ...   \n",
       "51042              0.573107  1.659328  1.790800       -0.180167   \n",
       "51043              0.328819  0.754122  1.122214       -0.180167   \n",
       "51044             -0.010031  0.210998 -0.883541       -0.180167   \n",
       "51045              0.206676  0.029957 -0.883541       -0.180167   \n",
       "51046             -1.203887 -1.418373 -0.883541        4.662897   \n",
       "\n",
       "       RetentionOffersAccepted  ReferralsMadeBySubscriber  IncomeGroup  \\\n",
       "0                    -0.128300                  -0.169283    -0.103411   \n",
       "1                    -0.128300                  -0.169283     0.215243   \n",
       "2                    -0.128300                  -0.169283     0.533896   \n",
       "3                    -0.128300                  -0.169283     0.533896   \n",
       "4                    -0.128300                  -0.169283     1.489856   \n",
       "...                        ...                        ...          ...   \n",
       "51042                -0.128300                  -0.169283     0.533896   \n",
       "51043                -0.128300                  -0.169283     1.489856   \n",
       "51044                -0.128300                  -0.169283     0.852549   \n",
       "51045                -0.128300                  -0.169283     1.489856   \n",
       "51046                 6.891363                  -0.169283    -1.378025   \n",
       "\n",
       "       AdjustmentsToCreditRating  HandsetPrice  \n",
       "0                      -0.140707     -0.864858  \n",
       "1                      -0.140707     -0.864858  \n",
       "2                      -0.140707     -0.368174  \n",
       "3                      -0.140707     -1.195980  \n",
       "4                       2.469282     -1.195980  \n",
       "...                          ...           ...  \n",
       "51042                  -0.140707     -0.368174  \n",
       "51043                   2.469282     -0.368174  \n",
       "51044                   2.469282     -0.037051  \n",
       "51045                  -0.140707     -0.864858  \n",
       "51046                   2.469282     -0.368174  \n",
       "\n",
       "[51047 rows x 35 columns]"
      ]
     },
     "execution_count": 9,
     "metadata": {},
     "output_type": "execute_result"
    }
   ],
   "source": [
    "feature_list = df.select_dtypes(\"float64\")\n",
    "feature_list"
   ]
  },
  {
   "cell_type": "markdown",
   "metadata": {},
   "source": [
    "## Part 2. Create Labeled Examples from the Data Set "
   ]
  },
  {
   "cell_type": "markdown",
   "metadata": {},
   "source": [
    "Our data is fully prepared for modeling. We can now create labeled examples from DataFrame `df`."
   ]
  },
  {
   "cell_type": "code",
   "execution_count": 10,
   "metadata": {},
   "outputs": [
    {
     "data": {
      "text/plain": [
       "(51047, 35)"
      ]
     },
     "execution_count": 10,
     "metadata": {},
     "output_type": "execute_result"
    }
   ],
   "source": [
    "X = feature_list\n",
    "y = df[\"Churn\"]\n",
    "X.shape"
   ]
  },
  {
   "cell_type": "markdown",
   "metadata": {},
   "source": [
    "## Part 3. Create Training and Test Data Sets"
   ]
  },
  {
   "cell_type": "code",
   "execution_count": 11,
   "metadata": {},
   "outputs": [],
   "source": [
    "X_train, X_test, y_train, y_test = train_test_split(X, y, test_size=0.3, random_state=1234)"
   ]
  },
  {
   "cell_type": "code",
   "execution_count": 12,
   "metadata": {
    "scrolled": true
   },
   "outputs": [
    {
     "name": "stdout",
     "output_type": "stream",
     "text": [
      "(35732, 35) (15315, 35) (35732,) (15315,)\n"
     ]
    }
   ],
   "source": [
    "print(X_train.shape, X_test.shape, y_train.shape, y_test.shape)"
   ]
  },
  {
   "cell_type": "markdown",
   "metadata": {},
   "source": [
    "## Part 4. Train a Logistic Regression Classifier and Evaluate the Model"
   ]
  },
  {
   "cell_type": "code",
   "execution_count": 13,
   "metadata": {},
   "outputs": [],
   "source": [
    "def train_test_LR(X_train, y_train, X_test, y_test, c):\n",
    "    '''\n",
    "    Fit a Linear Regression classifier to the training data X_train, y_train.\n",
    "    Return the loss and accuracy of resulting predictions on the test set.\n",
    "    Parameters:\n",
    "        C = Factor that controls how much regularization is applied to the model.\n",
    "    '''\n",
    "    \n",
    "    model = LogisticRegression(C=c)\n",
    "    model.fit(X_train, y_train)\n",
    "    probability_predictions = model.predict_proba(X_test)\n",
    "    l_loss = log_loss(y_test, probability_predictions)\n",
    "    class_label_predictions = model.predict(X_test)\n",
    "    acc_score = accuracy_score(y_test, class_label_predictions)\n",
    "    \n",
    "    return l_loss, acc_score\n",
    "    \n",
    "    "
   ]
  },
  {
   "cell_type": "markdown",
   "metadata": {},
   "source": [
    "### Train a Model and Analyze the Results"
   ]
  },
  {
   "cell_type": "code",
   "execution_count": 14,
   "metadata": {},
   "outputs": [
    {
     "name": "stdout",
     "output_type": "stream",
     "text": [
      "(0.5888245245694671, 0.7091087169441724)\n"
     ]
    }
   ],
   "source": [
    "print(train_test_LR(X_train, y_train, X_test, y_test, c=1))"
   ]
  },
  {
   "cell_type": "markdown",
   "metadata": {},
   "source": [
    "## Part 5. Train on Different Hyperparameter Values and Analyze the Results"
   ]
  },
  {
   "cell_type": "markdown",
   "metadata": {},
   "source": [
    "Now we will adjust the $C$ regularization hyperparameter to check its impact on the model's log loss and accuracy. Hyperparameter `C` stands for the inverse of regularization strength. Smaller values specify stronger regularization and a simpler model. Larger values specify weaker regularization and a more complex model.<br>\n",
    "\n",
    "The code cell below creates a list `cs` of twenty values of $C$.  Every item in the list has a value $10^i$ for every integer $i$ in the output of `range(-10,10)`."
   ]
  },
  {
   "cell_type": "code",
   "execution_count": 15,
   "metadata": {},
   "outputs": [
    {
     "data": {
      "text/plain": [
       "[1e-10,\n",
       " 1e-09,\n",
       " 1e-08,\n",
       " 1e-07,\n",
       " 1e-06,\n",
       " 1e-05,\n",
       " 0.0001,\n",
       " 0.001,\n",
       " 0.01,\n",
       " 0.1,\n",
       " 1,\n",
       " 10,\n",
       " 100,\n",
       " 1000,\n",
       " 10000,\n",
       " 100000,\n",
       " 1000000,\n",
       " 10000000,\n",
       " 100000000,\n",
       " 1000000000]"
      ]
     },
     "execution_count": 15,
     "metadata": {},
     "output_type": "execute_result"
    }
   ],
   "source": [
    "cs = [10**i for i in range(-10,10)]\n",
    "cs"
   ]
  },
  {
   "cell_type": "code",
   "execution_count": 16,
   "metadata": {},
   "outputs": [
    {
     "name": "stdout",
     "output_type": "stream",
     "text": [
      "0.6025052141784704 0.7096310806398956 1e-10\n",
      "0.6025052443755019 0.7096310806398956 1e-09\n",
      "0.6025026676667322 0.7096310806398956 1e-08\n",
      "0.6024783010680961 0.7096310806398956 1e-07\n",
      "0.6022451031459269 0.7096310806398956 1e-06\n",
      "0.6004821799352992 0.7096310806398956 1e-05\n",
      "0.5945179250206694 0.7096310806398956 0.0001\n",
      "0.5891395121584165 0.7100228534116879 0.001\n",
      "0.5886355981178039 0.7088475350963108 0.01\n",
      "0.5888009831065725 0.7091087169441724 0.1\n",
      "0.5888245245694671 0.7091087169441724 1\n",
      "0.5888269625113687 0.7091087169441724 10\n",
      "0.588827207159754 0.7091087169441724 100\n",
      "0.588827231633151 0.7091087169441724 1000\n",
      "0.5888272340805764 0.7091087169441724 10000\n",
      "0.5888272343253196 0.7091087169441724 100000\n",
      "0.588827234349794 0.7091087169441724 1000000\n",
      "0.5888272343522415 0.7091087169441724 10000000\n",
      "0.5888272343524862 0.7091087169441724 100000000\n",
      "0.5888272343525107 0.7091087169441724 1000000000\n"
     ]
    }
   ],
   "source": [
    "acc_list = []\n",
    "l_loss_list = []\n",
    "\n",
    "for c in cs:\n",
    "    l_loss, acc = train_test_LR(X_train, y_train, X_test, y_test, c)\n",
    "    print(l_loss, acc, c)\n",
    "    acc_list.append(acc)\n",
    "    l_loss_list.append(l_loss)"
   ]
  },
  {
   "cell_type": "markdown",
   "metadata": {},
   "source": [
    "Now let's visualize the results. \n",
    "\n",
    "Before we create plots, let's reformat the hyperparameter values in list `cs` so that they can be easily visualized in our plots. We will take the log 10 of the hyperparameter values and save it to a new list called `cs_log10`. Let's take a look at the original values and transformed values:\n",
    " "
   ]
  },
  {
   "cell_type": "code",
   "execution_count": 17,
   "metadata": {},
   "outputs": [
    {
     "name": "stdout",
     "output_type": "stream",
     "text": [
      "[1e-10, 1e-09, 1e-08, 1e-07, 1e-06, 1e-05, 0.0001, 0.001, 0.01, 0.1, 1, 10, 100, 1000, 10000, 100000, 1000000, 10000000, 100000000, 1000000000]\n",
      "[-10.  -9.  -8.  -7.  -6.  -5.  -4.  -3.  -2.  -1.   0.   1.   2.   3.\n",
      "   4.   5.   6.   7.   8.   9.]\n"
     ]
    }
   ],
   "source": [
    "cs_log10 = np.log10(cs)\n",
    "\n",
    "print(cs)\n",
    "print(cs_log10)"
   ]
  },
  {
   "cell_type": "markdown",
   "metadata": {},
   "source": [
    "\n",
    "#### Plot Log Loss"
   ]
  },
  {
   "cell_type": "code",
   "execution_count": 18,
   "metadata": {},
   "outputs": [
    {
     "data": {
      "image/png": "[encoded data removed]",
      "text/plain": [
       "<Figure size 640x480 with 1 Axes>"
      ]
     },
     "metadata": {},
     "output_type": "display_data"
    }
   ],
   "source": [
    "fig = plt.figure()\n",
    "ax = fig.add_subplot(111)\n",
    "\n",
    "p = sns.lineplot(x=cs_log10, y=l_loss_list, marker='o')\n",
    "\n",
    "plt.title('Log Loss vs C for Logistic Regression')\n",
    "ax.set_xlabel('C')\n",
    "ax.set_ylabel('log loss')\n",
    "plt.show()"
   ]
  },
  {
   "cell_type": "markdown",
   "metadata": {},
   "source": [
    "#### Plot Accuracy"
   ]
  },
  {
   "cell_type": "code",
   "execution_count": 19,
   "metadata": {},
   "outputs": [
    {
     "data": {
      "image/png": "[encoded data removed]",
      "text/plain": [
       "<Figure size 640x480 with 1 Axes>"
      ]
     },
     "metadata": {},
     "output_type": "display_data"
    }
   ],
   "source": [
    "fig = plt.figure()\n",
    "ax = fig.add_subplot(111)\n",
    "\n",
    "p = sns.lineplot(x=cs_log10, y=acc_list, marker='o')\n",
    "\n",
    "plt.title('Accuracy Score vs C for Logistic Regression')\n",
    "ax.set_xlabel('C')\n",
    "ax.set_ylabel('accuracy score')\n",
    "plt.show()"
   ]
  }
 ],
 "metadata": {
  "kernelspec": {
   "display_name": "base",
   "language": "python",
   "name": "python3"
  },
  "language_info": {
   "codemirror_mode": {
    "name": "ipython",
    "version": 3
   },
   "file_extension": ".py",
   "mimetype": "text/x-python",
   "name": "python",
   "nbconvert_exporter": "python",
   "pygments_lexer": "ipython3",
   "version": "3.12.4"
  },
  "toc": {
   "base_numbering": 1,
   "nav_menu": {},
   "number_sections": false,
   "sideBar": true,
   "skip_h1_title": false,
   "title_cell": "Table of Contents",
   "title_sidebar": "Contents",
   "toc_cell": false,
   "toc_position": {},
   "toc_section_display": true,
   "toc_window_display": false
  },
  "varInspector": {
   "cols": {
    "lenName": 16,
    "lenType": 16,
    "lenVar": 40
   },
   "kernels_config": {
    "python": {
     "delete_cmd_postfix": "",
     "delete_cmd_prefix": "del ",
     "library": "var_list.py",
     "varRefreshCmd": "print(var_dic_list())"
    },
    "r": {
     "delete_cmd_postfix": ") ",
     "delete_cmd_prefix": "rm(",
     "library": "var_list.r",
     "varRefreshCmd": "cat(var_dic_list()) "
    }
   },
   "types_to_exclude": [
    "module",
    "function",
    "builtin_function_or_method",
    "instance",
    "_Feature"
   ],
   "window_display": false
  }
 },
 "nbformat": 4,
 "nbformat_minor": 2
}
