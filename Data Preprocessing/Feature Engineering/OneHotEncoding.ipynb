{
 "cells": [
  {
   "cell_type": "markdown",
   "metadata": {},
   "source": [
    "# One-Hot Encoding "
   ]
  },
  {
   "cell_type": "markdown",
   "metadata": {},
   "source": [
    "### Import Packages"
   ]
  },
  {
   "cell_type": "code",
   "execution_count": 6,
   "metadata": {},
   "outputs": [],
   "source": [
    "import pandas as pd\n",
    "import numpy as np\n",
    "import os "
   ]
  },
  {
   "cell_type": "markdown",
   "metadata": {},
   "source": [
    "### Load the Data Set"
   ]
  },
  {
   "cell_type": "code",
   "execution_count": 7,
   "metadata": {},
   "outputs": [],
   "source": [
    "filename = os.path.join(os.getcwd(), \"..\", \"..\", \"data\", \"cell2cell.csv\")\n",
    "df = pd.read_csv(filename, header=0)"
   ]
  },
  {
   "cell_type": "markdown",
   "metadata": {},
   "source": [
    "#### Inspect the Data"
   ]
  },
  {
   "cell_type": "code",
   "execution_count": 8,
   "metadata": {},
   "outputs": [
    {
     "data": {
      "text/plain": [
       "(51047, 58)"
      ]
     },
     "execution_count": 8,
     "metadata": {},
     "output_type": "execute_result"
    }
   ],
   "source": [
    "df.shape"
   ]
  },
  {
   "cell_type": "code",
   "execution_count": 9,
   "metadata": {},
   "outputs": [
    {
     "data": {
      "text/html": [
       "<div>\n",
       "<style scoped>\n",
       "    .dataframe tbody tr th:only-of-type {\n",
       "        vertical-align: middle;\n",
       "    }\n",
       "\n",
       "    .dataframe tbody tr th {\n",
       "        vertical-align: top;\n",
       "    }\n",
       "\n",
       "    .dataframe thead th {\n",
       "        text-align: right;\n",
       "    }\n",
       "</style>\n",
       "<table border=\"1\" class=\"dataframe\">\n",
       "  <thead>\n",
       "    <tr style=\"text-align: right;\">\n",
       "      <th></th>\n",
       "      <th>CustomerID</th>\n",
       "      <th>Churn</th>\n",
       "      <th>ServiceArea</th>\n",
       "      <th>ChildrenInHH</th>\n",
       "      <th>HandsetRefurbished</th>\n",
       "      <th>HandsetWebCapable</th>\n",
       "      <th>TruckOwner</th>\n",
       "      <th>RVOwner</th>\n",
       "      <th>HomeownershipKnown</th>\n",
       "      <th>BuysViaMailOrder</th>\n",
       "      <th>...</th>\n",
       "      <th>HandsetModels</th>\n",
       "      <th>CurrentEquipmentDays</th>\n",
       "      <th>AgeHH1</th>\n",
       "      <th>AgeHH2</th>\n",
       "      <th>RetentionCalls</th>\n",
       "      <th>RetentionOffersAccepted</th>\n",
       "      <th>ReferralsMadeBySubscriber</th>\n",
       "      <th>IncomeGroup</th>\n",
       "      <th>AdjustmentsToCreditRating</th>\n",
       "      <th>HandsetPrice</th>\n",
       "    </tr>\n",
       "  </thead>\n",
       "  <tbody>\n",
       "    <tr>\n",
       "      <th>0</th>\n",
       "      <td>3000002</td>\n",
       "      <td>True</td>\n",
       "      <td>SEAPOR503</td>\n",
       "      <td>False</td>\n",
       "      <td>False</td>\n",
       "      <td>True</td>\n",
       "      <td>False</td>\n",
       "      <td>False</td>\n",
       "      <td>True</td>\n",
       "      <td>True</td>\n",
       "      <td>...</td>\n",
       "      <td>0.487071</td>\n",
       "      <td>-0.077013</td>\n",
       "      <td>1.387766</td>\n",
       "      <td>-0.883541</td>\n",
       "      <td>4.662897</td>\n",
       "      <td>-0.1283</td>\n",
       "      <td>-0.169283</td>\n",
       "      <td>-0.103411</td>\n",
       "      <td>-0.140707</td>\n",
       "      <td>-0.864858</td>\n",
       "    </tr>\n",
       "    <tr>\n",
       "      <th>1</th>\n",
       "      <td>3000010</td>\n",
       "      <td>True</td>\n",
       "      <td>PITHOM412</td>\n",
       "      <td>True</td>\n",
       "      <td>False</td>\n",
       "      <td>False</td>\n",
       "      <td>False</td>\n",
       "      <td>False</td>\n",
       "      <td>True</td>\n",
       "      <td>True</td>\n",
       "      <td>...</td>\n",
       "      <td>-0.616775</td>\n",
       "      <td>3.019920</td>\n",
       "      <td>0.392039</td>\n",
       "      <td>0.871495</td>\n",
       "      <td>-0.180167</td>\n",
       "      <td>-0.1283</td>\n",
       "      <td>-0.169283</td>\n",
       "      <td>0.215243</td>\n",
       "      <td>-0.140707</td>\n",
       "      <td>-0.864858</td>\n",
       "    </tr>\n",
       "    <tr>\n",
       "      <th>2</th>\n",
       "      <td>3000014</td>\n",
       "      <td>False</td>\n",
       "      <td>MILMIL414</td>\n",
       "      <td>True</td>\n",
       "      <td>False</td>\n",
       "      <td>False</td>\n",
       "      <td>False</td>\n",
       "      <td>False</td>\n",
       "      <td>False</td>\n",
       "      <td>False</td>\n",
       "      <td>...</td>\n",
       "      <td>-0.616775</td>\n",
       "      <td>3.019920</td>\n",
       "      <td>-0.241605</td>\n",
       "      <td>0.202910</td>\n",
       "      <td>-0.180167</td>\n",
       "      <td>-0.1283</td>\n",
       "      <td>-0.169283</td>\n",
       "      <td>0.533896</td>\n",
       "      <td>-0.140707</td>\n",
       "      <td>-0.368174</td>\n",
       "    </tr>\n",
       "    <tr>\n",
       "      <th>3</th>\n",
       "      <td>3000022</td>\n",
       "      <td>False</td>\n",
       "      <td>PITHOM412</td>\n",
       "      <td>False</td>\n",
       "      <td>False</td>\n",
       "      <td>True</td>\n",
       "      <td>False</td>\n",
       "      <td>False</td>\n",
       "      <td>True</td>\n",
       "      <td>True</td>\n",
       "      <td>...</td>\n",
       "      <td>2.694763</td>\n",
       "      <td>0.305179</td>\n",
       "      <td>-0.060564</td>\n",
       "      <td>-0.883541</td>\n",
       "      <td>-0.180167</td>\n",
       "      <td>-0.1283</td>\n",
       "      <td>-0.169283</td>\n",
       "      <td>0.533896</td>\n",
       "      <td>-0.140707</td>\n",
       "      <td>-1.195980</td>\n",
       "    </tr>\n",
       "    <tr>\n",
       "      <th>4</th>\n",
       "      <td>3000026</td>\n",
       "      <td>True</td>\n",
       "      <td>OKCTUL918</td>\n",
       "      <td>False</td>\n",
       "      <td>False</td>\n",
       "      <td>False</td>\n",
       "      <td>False</td>\n",
       "      <td>False</td>\n",
       "      <td>True</td>\n",
       "      <td>True</td>\n",
       "      <td>...</td>\n",
       "      <td>1.590917</td>\n",
       "      <td>1.857585</td>\n",
       "      <td>0.663601</td>\n",
       "      <td>1.372934</td>\n",
       "      <td>-0.180167</td>\n",
       "      <td>-0.1283</td>\n",
       "      <td>-0.169283</td>\n",
       "      <td>1.489856</td>\n",
       "      <td>2.469282</td>\n",
       "      <td>-1.195980</td>\n",
       "    </tr>\n",
       "  </tbody>\n",
       "</table>\n",
       "<p>5 rows × 58 columns</p>\n",
       "</div>"
      ],
      "text/plain": [
       "   CustomerID  Churn ServiceArea  ChildrenInHH  HandsetRefurbished  \\\n",
       "0     3000002   True   SEAPOR503         False               False   \n",
       "1     3000010   True   PITHOM412          True               False   \n",
       "2     3000014  False   MILMIL414          True               False   \n",
       "3     3000022  False   PITHOM412         False               False   \n",
       "4     3000026   True   OKCTUL918         False               False   \n",
       "\n",
       "   HandsetWebCapable  TruckOwner  RVOwner  HomeownershipKnown  \\\n",
       "0               True       False    False                True   \n",
       "1              False       False    False                True   \n",
       "2              False       False    False               False   \n",
       "3               True       False    False                True   \n",
       "4              False       False    False                True   \n",
       "\n",
       "   BuysViaMailOrder  ...  HandsetModels  CurrentEquipmentDays    AgeHH1  \\\n",
       "0              True  ...       0.487071             -0.077013  1.387766   \n",
       "1              True  ...      -0.616775              3.019920  0.392039   \n",
       "2             False  ...      -0.616775              3.019920 -0.241605   \n",
       "3              True  ...       2.694763              0.305179 -0.060564   \n",
       "4              True  ...       1.590917              1.857585  0.663601   \n",
       "\n",
       "     AgeHH2  RetentionCalls  RetentionOffersAccepted  \\\n",
       "0 -0.883541        4.662897                  -0.1283   \n",
       "1  0.871495       -0.180167                  -0.1283   \n",
       "2  0.202910       -0.180167                  -0.1283   \n",
       "3 -0.883541       -0.180167                  -0.1283   \n",
       "4  1.372934       -0.180167                  -0.1283   \n",
       "\n",
       "   ReferralsMadeBySubscriber  IncomeGroup  AdjustmentsToCreditRating  \\\n",
       "0                  -0.169283    -0.103411                  -0.140707   \n",
       "1                  -0.169283     0.215243                  -0.140707   \n",
       "2                  -0.169283     0.533896                  -0.140707   \n",
       "3                  -0.169283     0.533896                  -0.140707   \n",
       "4                  -0.169283     1.489856                   2.469282   \n",
       "\n",
       "  HandsetPrice  \n",
       "0    -0.864858  \n",
       "1    -0.864858  \n",
       "2    -0.368174  \n",
       "3    -1.195980  \n",
       "4    -1.195980  \n",
       "\n",
       "[5 rows x 58 columns]"
      ]
     },
     "execution_count": 9,
     "metadata": {},
     "output_type": "execute_result"
    }
   ],
   "source": [
    "df.head()"
   ]
  },
  {
   "cell_type": "markdown",
   "metadata": {},
   "source": [
    "Our label will be the column `Churn`."
   ]
  },
  {
   "cell_type": "markdown",
   "metadata": {},
   "source": [
    "### Find the Columns (Features) That Contain String Values"
   ]
  },
  {
   "cell_type": "code",
   "execution_count": 10,
   "metadata": {},
   "outputs": [
    {
     "data": {
      "text/plain": [
       "CustomerID                     int64\n",
       "Churn                           bool\n",
       "ServiceArea                   object\n",
       "ChildrenInHH                    bool\n",
       "HandsetRefurbished              bool\n",
       "HandsetWebCapable               bool\n",
       "TruckOwner                      bool\n",
       "RVOwner                         bool\n",
       "HomeownershipKnown              bool\n",
       "BuysViaMailOrder                bool\n",
       "RespondsToMailOffers            bool\n",
       "OptOutMailings                  bool\n",
       "NonUSTravel                     bool\n",
       "OwnsComputer                    bool\n",
       "HasCreditCard                   bool\n",
       "NewCellphoneUser                bool\n",
       "NotNewCellphoneUser             bool\n",
       "OwnsMotorcycle                  bool\n",
       "MadeCallToRetentionTeam         bool\n",
       "CreditRating                  object\n",
       "PrizmCode                     object\n",
       "Occupation                    object\n",
       "Married                       object\n",
       "MonthlyRevenue               float64\n",
       "MonthlyMinutes               float64\n",
       "TotalRecurringCharge         float64\n",
       "DirectorAssistedCalls        float64\n",
       "OverageMinutes               float64\n",
       "RoamingCalls                 float64\n",
       "PercChangeMinutes            float64\n",
       "PercChangeRevenues           float64\n",
       "DroppedCalls                 float64\n",
       "BlockedCalls                 float64\n",
       "UnansweredCalls              float64\n",
       "CustomerCareCalls            float64\n",
       "ThreewayCalls                float64\n",
       "ReceivedCalls                float64\n",
       "OutboundCalls                float64\n",
       "InboundCalls                 float64\n",
       "PeakCallsInOut               float64\n",
       "OffPeakCallsInOut            float64\n",
       "DroppedBlockedCalls          float64\n",
       "CallForwardingCalls          float64\n",
       "CallWaitingCalls             float64\n",
       "MonthsInService              float64\n",
       "UniqueSubs                   float64\n",
       "ActiveSubs                   float64\n",
       "Handsets                     float64\n",
       "HandsetModels                float64\n",
       "CurrentEquipmentDays         float64\n",
       "AgeHH1                       float64\n",
       "AgeHH2                       float64\n",
       "RetentionCalls               float64\n",
       "RetentionOffersAccepted      float64\n",
       "ReferralsMadeBySubscriber    float64\n",
       "IncomeGroup                  float64\n",
       "AdjustmentsToCreditRating    float64\n",
       "HandsetPrice                 float64\n",
       "dtype: object"
      ]
     },
     "execution_count": 10,
     "metadata": {},
     "output_type": "execute_result"
    }
   ],
   "source": [
    "df.dtypes"
   ]
  },
  {
   "cell_type": "markdown",
   "metadata": {},
   "source": [
    "The code cell below finds all columns of type `object`, which corresponds to the string type."
   ]
  },
  {
   "cell_type": "code",
   "execution_count": 11,
   "metadata": {},
   "outputs": [
    {
     "data": {
      "text/plain": [
       "['ServiceArea', 'CreditRating', 'PrizmCode', 'Occupation', 'Married']"
      ]
     },
     "execution_count": 11,
     "metadata": {},
     "output_type": "execute_result"
    }
   ],
   "source": [
    "to_encode = list(df.select_dtypes(include=['object']).columns)\n",
    "to_encode"
   ]
  },
  {
   "cell_type": "markdown",
   "metadata": {},
   "source": [
    "## One-Hot Encode the Data Using NumPy"
   ]
  },
  {
   "cell_type": "markdown",
   "metadata": {},
   "source": [
    "There are five object-type columns in our DataFrame `df`. Lets inspect the possible number of values each column (feature) may have."
   ]
  },
  {
   "cell_type": "code",
   "execution_count": 12,
   "metadata": {},
   "outputs": [
    {
     "data": {
      "text/plain": [
       "ServiceArea     747\n",
       "CreditRating      7\n",
       "PrizmCode         4\n",
       "Occupation        8\n",
       "Married           2\n",
       "dtype: int64"
      ]
     },
     "execution_count": 12,
     "metadata": {},
     "output_type": "execute_result"
    }
   ],
   "source": [
    "df[to_encode].nunique()"
   ]
  },
  {
   "cell_type": "markdown",
   "metadata": {},
   "source": [
    "Notice that column `ServiceArea` has 747 potential values. This means we would have to create 747 new binary indicator columns - one column per unique value. That is too many!\n",
    "\n",
    "Let's handle the special case of column `ServiceArea` first. Transforming this many categorical values would slow down the computation down the line. Instead, we will convert the top 10 most frequent values in column `ServiceArea`. "
   ]
  },
  {
   "cell_type": "code",
   "execution_count": 13,
   "metadata": {},
   "outputs": [
    {
     "data": {
      "text/plain": [
       "['NYCBRO917',\n",
       " 'HOUHOU281',\n",
       " 'DALDAL214',\n",
       " 'NYCMAN917',\n",
       " 'APCFCH703',\n",
       " 'DALFTW817',\n",
       " 'SANSAN210',\n",
       " 'APCSIL301',\n",
       " 'SANAUS512',\n",
       " 'SFROAK510']"
      ]
     },
     "execution_count": 13,
     "metadata": {},
     "output_type": "execute_result"
    }
   ],
   "source": [
    "top_10_SA = list(df['ServiceArea'].value_counts().head(10).index)\n",
    "\n",
    "top_10_SA"
   ]
  },
  {
   "cell_type": "markdown",
   "metadata": {},
   "source": [
    "Now that we have obtained the ten most frequent values for `ServiceArea`, let's transform DataFrame `df` to represent these values numerically.\n",
    "\n",
    "The code cell below accomplishes the task of creating ten one-hot encoding columns. "
   ]
  },
  {
   "cell_type": "code",
   "execution_count": 14,
   "metadata": {},
   "outputs": [],
   "source": [
    "for value in top_10_SA:\n",
    "    \n",
    "    ## Create columns and their values\n",
    "    df['ServiceArea_'+ value] = np.where(df['ServiceArea']==value,1,0)\n",
    "    \n",
    "    \n",
    "# Remove the original column from DataFrame df\n",
    "df.drop(columns = 'ServiceArea', inplace=True)"
   ]
  },
  {
   "cell_type": "markdown",
   "metadata": {},
   "source": [
    "Inspect DataFrame `df` and see the new columns and their values."
   ]
  },
  {
   "cell_type": "code",
   "execution_count": 15,
   "metadata": {},
   "outputs": [
    {
     "data": {
      "text/html": [
       "<div>\n",
       "<style scoped>\n",
       "    .dataframe tbody tr th:only-of-type {\n",
       "        vertical-align: middle;\n",
       "    }\n",
       "\n",
       "    .dataframe tbody tr th {\n",
       "        vertical-align: top;\n",
       "    }\n",
       "\n",
       "    .dataframe thead th {\n",
       "        text-align: right;\n",
       "    }\n",
       "</style>\n",
       "<table border=\"1\" class=\"dataframe\">\n",
       "  <thead>\n",
       "    <tr style=\"text-align: right;\">\n",
       "      <th></th>\n",
       "      <th>CustomerID</th>\n",
       "      <th>Churn</th>\n",
       "      <th>ChildrenInHH</th>\n",
       "      <th>HandsetRefurbished</th>\n",
       "      <th>HandsetWebCapable</th>\n",
       "      <th>TruckOwner</th>\n",
       "      <th>RVOwner</th>\n",
       "      <th>HomeownershipKnown</th>\n",
       "      <th>BuysViaMailOrder</th>\n",
       "      <th>RespondsToMailOffers</th>\n",
       "      <th>...</th>\n",
       "      <th>ServiceArea_NYCBRO917</th>\n",
       "      <th>ServiceArea_HOUHOU281</th>\n",
       "      <th>ServiceArea_DALDAL214</th>\n",
       "      <th>ServiceArea_NYCMAN917</th>\n",
       "      <th>ServiceArea_APCFCH703</th>\n",
       "      <th>ServiceArea_DALFTW817</th>\n",
       "      <th>ServiceArea_SANSAN210</th>\n",
       "      <th>ServiceArea_APCSIL301</th>\n",
       "      <th>ServiceArea_SANAUS512</th>\n",
       "      <th>ServiceArea_SFROAK510</th>\n",
       "    </tr>\n",
       "  </thead>\n",
       "  <tbody>\n",
       "    <tr>\n",
       "      <th>0</th>\n",
       "      <td>3000002</td>\n",
       "      <td>True</td>\n",
       "      <td>False</td>\n",
       "      <td>False</td>\n",
       "      <td>True</td>\n",
       "      <td>False</td>\n",
       "      <td>False</td>\n",
       "      <td>True</td>\n",
       "      <td>True</td>\n",
       "      <td>True</td>\n",
       "      <td>...</td>\n",
       "      <td>0</td>\n",
       "      <td>0</td>\n",
       "      <td>0</td>\n",
       "      <td>0</td>\n",
       "      <td>0</td>\n",
       "      <td>0</td>\n",
       "      <td>0</td>\n",
       "      <td>0</td>\n",
       "      <td>0</td>\n",
       "      <td>0</td>\n",
       "    </tr>\n",
       "    <tr>\n",
       "      <th>1</th>\n",
       "      <td>3000010</td>\n",
       "      <td>True</td>\n",
       "      <td>True</td>\n",
       "      <td>False</td>\n",
       "      <td>False</td>\n",
       "      <td>False</td>\n",
       "      <td>False</td>\n",
       "      <td>True</td>\n",
       "      <td>True</td>\n",
       "      <td>True</td>\n",
       "      <td>...</td>\n",
       "      <td>0</td>\n",
       "      <td>0</td>\n",
       "      <td>0</td>\n",
       "      <td>0</td>\n",
       "      <td>0</td>\n",
       "      <td>0</td>\n",
       "      <td>0</td>\n",
       "      <td>0</td>\n",
       "      <td>0</td>\n",
       "      <td>0</td>\n",
       "    </tr>\n",
       "    <tr>\n",
       "      <th>2</th>\n",
       "      <td>3000014</td>\n",
       "      <td>False</td>\n",
       "      <td>True</td>\n",
       "      <td>False</td>\n",
       "      <td>False</td>\n",
       "      <td>False</td>\n",
       "      <td>False</td>\n",
       "      <td>False</td>\n",
       "      <td>False</td>\n",
       "      <td>False</td>\n",
       "      <td>...</td>\n",
       "      <td>0</td>\n",
       "      <td>0</td>\n",
       "      <td>0</td>\n",
       "      <td>0</td>\n",
       "      <td>0</td>\n",
       "      <td>0</td>\n",
       "      <td>0</td>\n",
       "      <td>0</td>\n",
       "      <td>0</td>\n",
       "      <td>0</td>\n",
       "    </tr>\n",
       "    <tr>\n",
       "      <th>3</th>\n",
       "      <td>3000022</td>\n",
       "      <td>False</td>\n",
       "      <td>False</td>\n",
       "      <td>False</td>\n",
       "      <td>True</td>\n",
       "      <td>False</td>\n",
       "      <td>False</td>\n",
       "      <td>True</td>\n",
       "      <td>True</td>\n",
       "      <td>True</td>\n",
       "      <td>...</td>\n",
       "      <td>0</td>\n",
       "      <td>0</td>\n",
       "      <td>0</td>\n",
       "      <td>0</td>\n",
       "      <td>0</td>\n",
       "      <td>0</td>\n",
       "      <td>0</td>\n",
       "      <td>0</td>\n",
       "      <td>0</td>\n",
       "      <td>0</td>\n",
       "    </tr>\n",
       "    <tr>\n",
       "      <th>4</th>\n",
       "      <td>3000026</td>\n",
       "      <td>True</td>\n",
       "      <td>False</td>\n",
       "      <td>False</td>\n",
       "      <td>False</td>\n",
       "      <td>False</td>\n",
       "      <td>False</td>\n",
       "      <td>True</td>\n",
       "      <td>True</td>\n",
       "      <td>True</td>\n",
       "      <td>...</td>\n",
       "      <td>0</td>\n",
       "      <td>0</td>\n",
       "      <td>0</td>\n",
       "      <td>0</td>\n",
       "      <td>0</td>\n",
       "      <td>0</td>\n",
       "      <td>0</td>\n",
       "      <td>0</td>\n",
       "      <td>0</td>\n",
       "      <td>0</td>\n",
       "    </tr>\n",
       "  </tbody>\n",
       "</table>\n",
       "<p>5 rows × 67 columns</p>\n",
       "</div>"
      ],
      "text/plain": [
       "   CustomerID  Churn  ChildrenInHH  HandsetRefurbished  HandsetWebCapable  \\\n",
       "0     3000002   True         False               False               True   \n",
       "1     3000010   True          True               False              False   \n",
       "2     3000014  False          True               False              False   \n",
       "3     3000022  False         False               False               True   \n",
       "4     3000026   True         False               False              False   \n",
       "\n",
       "   TruckOwner  RVOwner  HomeownershipKnown  BuysViaMailOrder  \\\n",
       "0       False    False                True              True   \n",
       "1       False    False                True              True   \n",
       "2       False    False               False             False   \n",
       "3       False    False                True              True   \n",
       "4       False    False                True              True   \n",
       "\n",
       "   RespondsToMailOffers  ...  ServiceArea_NYCBRO917  ServiceArea_HOUHOU281  \\\n",
       "0                  True  ...                      0                      0   \n",
       "1                  True  ...                      0                      0   \n",
       "2                 False  ...                      0                      0   \n",
       "3                  True  ...                      0                      0   \n",
       "4                  True  ...                      0                      0   \n",
       "\n",
       "   ServiceArea_DALDAL214  ServiceArea_NYCMAN917  ServiceArea_APCFCH703  \\\n",
       "0                      0                      0                      0   \n",
       "1                      0                      0                      0   \n",
       "2                      0                      0                      0   \n",
       "3                      0                      0                      0   \n",
       "4                      0                      0                      0   \n",
       "\n",
       "   ServiceArea_DALFTW817  ServiceArea_SANSAN210  ServiceArea_APCSIL301  \\\n",
       "0                      0                      0                      0   \n",
       "1                      0                      0                      0   \n",
       "2                      0                      0                      0   \n",
       "3                      0                      0                      0   \n",
       "4                      0                      0                      0   \n",
       "\n",
       "  ServiceArea_SANAUS512 ServiceArea_SFROAK510  \n",
       "0                     0                     0  \n",
       "1                     0                     0  \n",
       "2                     0                     0  \n",
       "3                     0                     0  \n",
       "4                     0                     0  \n",
       "\n",
       "[5 rows x 67 columns]"
      ]
     },
     "execution_count": 15,
     "metadata": {},
     "output_type": "execute_result"
    }
   ],
   "source": [
    "df.head()"
   ]
  },
  {
   "cell_type": "code",
   "execution_count": 16,
   "metadata": {},
   "outputs": [
    {
     "data": {
      "text/plain": [
       "Index(['CustomerID', 'Churn', 'ChildrenInHH', 'HandsetRefurbished',\n",
       "       'HandsetWebCapable', 'TruckOwner', 'RVOwner', 'HomeownershipKnown',\n",
       "       'BuysViaMailOrder', 'RespondsToMailOffers', 'OptOutMailings',\n",
       "       'NonUSTravel', 'OwnsComputer', 'HasCreditCard', 'NewCellphoneUser',\n",
       "       'NotNewCellphoneUser', 'OwnsMotorcycle', 'MadeCallToRetentionTeam',\n",
       "       'CreditRating', 'PrizmCode', 'Occupation', 'Married', 'MonthlyRevenue',\n",
       "       'MonthlyMinutes', 'TotalRecurringCharge', 'DirectorAssistedCalls',\n",
       "       'OverageMinutes', 'RoamingCalls', 'PercChangeMinutes',\n",
       "       'PercChangeRevenues', 'DroppedCalls', 'BlockedCalls', 'UnansweredCalls',\n",
       "       'CustomerCareCalls', 'ThreewayCalls', 'ReceivedCalls', 'OutboundCalls',\n",
       "       'InboundCalls', 'PeakCallsInOut', 'OffPeakCallsInOut',\n",
       "       'DroppedBlockedCalls', 'CallForwardingCalls', 'CallWaitingCalls',\n",
       "       'MonthsInService', 'UniqueSubs', 'ActiveSubs', 'Handsets',\n",
       "       'HandsetModels', 'CurrentEquipmentDays', 'AgeHH1', 'AgeHH2',\n",
       "       'RetentionCalls', 'RetentionOffersAccepted',\n",
       "       'ReferralsMadeBySubscriber', 'IncomeGroup', 'AdjustmentsToCreditRating',\n",
       "       'HandsetPrice', 'ServiceArea_NYCBRO917', 'ServiceArea_HOUHOU281',\n",
       "       'ServiceArea_DALDAL214', 'ServiceArea_NYCMAN917',\n",
       "       'ServiceArea_APCFCH703', 'ServiceArea_DALFTW817',\n",
       "       'ServiceArea_SANSAN210', 'ServiceArea_APCSIL301',\n",
       "       'ServiceArea_SANAUS512', 'ServiceArea_SFROAK510'],\n",
       "      dtype='object')"
      ]
     },
     "execution_count": 16,
     "metadata": {},
     "output_type": "execute_result"
    }
   ],
   "source": [
    "df.columns"
   ]
  },
  {
   "cell_type": "markdown",
   "metadata": {},
   "source": [
    "Let's inspect column `ServiceArea_DALDAL214` in row 47. Remember, it should have a value of 1."
   ]
  },
  {
   "cell_type": "code",
   "execution_count": 17,
   "metadata": {},
   "outputs": [
    {
     "data": {
      "text/plain": [
       "1"
      ]
     },
     "execution_count": 17,
     "metadata": {},
     "output_type": "execute_result"
    }
   ],
   "source": [
    "df.loc[47]['ServiceArea_DALDAL214']"
   ]
  },
  {
   "cell_type": "markdown",
   "metadata": {},
   "source": [
    "## One-Hot Encode the Data Using Pandas"
   ]
  },
  {
   "cell_type": "markdown",
   "metadata": {},
   "source": [
    "Now that we have successfully transformed the `ServiceArea` column, let us transform the rest of the data in the remaining columns.\n",
    "\n",
    "Let's begin with the`Married` column. Let's inspect the values in `Married`. "
   ]
  },
  {
   "cell_type": "code",
   "execution_count": 18,
   "metadata": {},
   "outputs": [
    {
     "data": {
      "text/plain": [
       "0        False\n",
       "1         True\n",
       "2         True\n",
       "3        False\n",
       "4         True\n",
       "         ...  \n",
       "51042     True\n",
       "51043    False\n",
       "51044    False\n",
       "51045    False\n",
       "51046      NaN\n",
       "Name: Married, Length: 51047, dtype: object"
      ]
     },
     "execution_count": 18,
     "metadata": {},
     "output_type": "execute_result"
    }
   ],
   "source": [
    "df['Married']"
   ]
  },
  {
   "cell_type": "markdown",
   "metadata": {},
   "source": [
    "Note that each entry in the `Married` column contains one of two values - True or False. Therefore, we will replace the `Married` column with two new columns (one column per value).\n",
    "\n",
    "In the code cell below, we are specifying which column to encode (`Married` column) as well as the prefix for the names of the new columns (`Married_`). Note that `pd.get_dummies()` returns a new DataFrame with the new one-hot encoded values. "
   ]
  },
  {
   "cell_type": "code",
   "execution_count": 19,
   "metadata": {},
   "outputs": [
    {
     "data": {
      "text/html": [
       "<div>\n",
       "<style scoped>\n",
       "    .dataframe tbody tr th:only-of-type {\n",
       "        vertical-align: middle;\n",
       "    }\n",
       "\n",
       "    .dataframe tbody tr th {\n",
       "        vertical-align: top;\n",
       "    }\n",
       "\n",
       "    .dataframe thead th {\n",
       "        text-align: right;\n",
       "    }\n",
       "</style>\n",
       "<table border=\"1\" class=\"dataframe\">\n",
       "  <thead>\n",
       "    <tr style=\"text-align: right;\">\n",
       "      <th></th>\n",
       "      <th>Married__False</th>\n",
       "      <th>Married__True</th>\n",
       "    </tr>\n",
       "  </thead>\n",
       "  <tbody>\n",
       "    <tr>\n",
       "      <th>0</th>\n",
       "      <td>True</td>\n",
       "      <td>False</td>\n",
       "    </tr>\n",
       "    <tr>\n",
       "      <th>1</th>\n",
       "      <td>False</td>\n",
       "      <td>True</td>\n",
       "    </tr>\n",
       "    <tr>\n",
       "      <th>2</th>\n",
       "      <td>False</td>\n",
       "      <td>True</td>\n",
       "    </tr>\n",
       "    <tr>\n",
       "      <th>3</th>\n",
       "      <td>True</td>\n",
       "      <td>False</td>\n",
       "    </tr>\n",
       "    <tr>\n",
       "      <th>4</th>\n",
       "      <td>False</td>\n",
       "      <td>True</td>\n",
       "    </tr>\n",
       "    <tr>\n",
       "      <th>...</th>\n",
       "      <td>...</td>\n",
       "      <td>...</td>\n",
       "    </tr>\n",
       "    <tr>\n",
       "      <th>51042</th>\n",
       "      <td>False</td>\n",
       "      <td>True</td>\n",
       "    </tr>\n",
       "    <tr>\n",
       "      <th>51043</th>\n",
       "      <td>True</td>\n",
       "      <td>False</td>\n",
       "    </tr>\n",
       "    <tr>\n",
       "      <th>51044</th>\n",
       "      <td>True</td>\n",
       "      <td>False</td>\n",
       "    </tr>\n",
       "    <tr>\n",
       "      <th>51045</th>\n",
       "      <td>True</td>\n",
       "      <td>False</td>\n",
       "    </tr>\n",
       "    <tr>\n",
       "      <th>51046</th>\n",
       "      <td>False</td>\n",
       "      <td>False</td>\n",
       "    </tr>\n",
       "  </tbody>\n",
       "</table>\n",
       "<p>51047 rows × 2 columns</p>\n",
       "</div>"
      ],
      "text/plain": [
       "       Married__False  Married__True\n",
       "0                True          False\n",
       "1               False           True\n",
       "2               False           True\n",
       "3                True          False\n",
       "4               False           True\n",
       "...               ...            ...\n",
       "51042           False           True\n",
       "51043            True          False\n",
       "51044            True          False\n",
       "51045            True          False\n",
       "51046           False          False\n",
       "\n",
       "[51047 rows x 2 columns]"
      ]
     },
     "execution_count": 19,
     "metadata": {},
     "output_type": "execute_result"
    }
   ],
   "source": [
    "df_Married = pd.get_dummies(df['Married'], prefix='Married_')\n",
    "df_Married"
   ]
  },
  {
   "cell_type": "markdown",
   "metadata": {},
   "source": [
    "Since the `pd.get_dummies()` function returned a new DataFrame rather than making the changes to the original DataFrame `df`, let us add the new DataFrame `df_Married` to DataFrame `df`, and delete the original `Married` column from DataFrame `df`.\n"
   ]
  },
  {
   "cell_type": "code",
   "execution_count": 20,
   "metadata": {},
   "outputs": [],
   "source": [
    "# Concatenate DataFrame df with the one-hot encoded DataFrame df_Married\n",
    "df = df.join(df_Married)\n",
    "\n",
    "# Remove the original 'Married' column from DataFrame df\n",
    "df.drop(columns = 'Married', inplace=True)\n"
   ]
  },
  {
   "cell_type": "markdown",
   "metadata": {},
   "source": [
    "Let's inspect DataFrame `df` to see the changes that have been made. DataFrame `df` now contains columns `Married__True` and `Married__False` and no longer contains the `Married` column."
   ]
  },
  {
   "cell_type": "code",
   "execution_count": 21,
   "metadata": {},
   "outputs": [
    {
     "data": {
      "text/plain": [
       "Index(['CustomerID', 'Churn', 'ChildrenInHH', 'HandsetRefurbished',\n",
       "       'HandsetWebCapable', 'TruckOwner', 'RVOwner', 'HomeownershipKnown',\n",
       "       'BuysViaMailOrder', 'RespondsToMailOffers', 'OptOutMailings',\n",
       "       'NonUSTravel', 'OwnsComputer', 'HasCreditCard', 'NewCellphoneUser',\n",
       "       'NotNewCellphoneUser', 'OwnsMotorcycle', 'MadeCallToRetentionTeam',\n",
       "       'CreditRating', 'PrizmCode', 'Occupation', 'MonthlyRevenue',\n",
       "       'MonthlyMinutes', 'TotalRecurringCharge', 'DirectorAssistedCalls',\n",
       "       'OverageMinutes', 'RoamingCalls', 'PercChangeMinutes',\n",
       "       'PercChangeRevenues', 'DroppedCalls', 'BlockedCalls', 'UnansweredCalls',\n",
       "       'CustomerCareCalls', 'ThreewayCalls', 'ReceivedCalls', 'OutboundCalls',\n",
       "       'InboundCalls', 'PeakCallsInOut', 'OffPeakCallsInOut',\n",
       "       'DroppedBlockedCalls', 'CallForwardingCalls', 'CallWaitingCalls',\n",
       "       'MonthsInService', 'UniqueSubs', 'ActiveSubs', 'Handsets',\n",
       "       'HandsetModels', 'CurrentEquipmentDays', 'AgeHH1', 'AgeHH2',\n",
       "       'RetentionCalls', 'RetentionOffersAccepted',\n",
       "       'ReferralsMadeBySubscriber', 'IncomeGroup', 'AdjustmentsToCreditRating',\n",
       "       'HandsetPrice', 'ServiceArea_NYCBRO917', 'ServiceArea_HOUHOU281',\n",
       "       'ServiceArea_DALDAL214', 'ServiceArea_NYCMAN917',\n",
       "       'ServiceArea_APCFCH703', 'ServiceArea_DALFTW817',\n",
       "       'ServiceArea_SANSAN210', 'ServiceArea_APCSIL301',\n",
       "       'ServiceArea_SANAUS512', 'ServiceArea_SFROAK510', 'Married__False',\n",
       "       'Married__True'],\n",
       "      dtype='object')"
      ]
     },
     "execution_count": 21,
     "metadata": {},
     "output_type": "execute_result"
    }
   ],
   "source": [
    "df.columns"
   ]
  },
  {
   "cell_type": "markdown",
   "metadata": {},
   "source": [
    "Let's use the approach to one-hot encode the remain columns `CreditRating`, `PrizmCode` and `Occupation`."
   ]
  },
  {
   "cell_type": "markdown",
   "metadata": {},
   "source": [
    "#### `CreditRating` Column"
   ]
  },
  {
   "cell_type": "markdown",
   "metadata": {},
   "source": [
    "We saw earlier that each row in the `CreditRating` column contains one of seven possible values. Therefore, we will replace the `CreditRating` column with seven new columns (one column per value)."
   ]
  },
  {
   "cell_type": "code",
   "execution_count": 22,
   "metadata": {},
   "outputs": [
    {
     "data": {
      "text/plain": [
       "0        1-Highest\n",
       "1         4-Medium\n",
       "2           3-Good\n",
       "3         4-Medium\n",
       "4        1-Highest\n",
       "           ...    \n",
       "51042    1-Highest\n",
       "51043       3-Good\n",
       "51044        5-Low\n",
       "51045        5-Low\n",
       "51046        5-Low\n",
       "Name: CreditRating, Length: 51047, dtype: object"
      ]
     },
     "execution_count": 22,
     "metadata": {},
     "output_type": "execute_result"
    }
   ],
   "source": [
    "# Inspect the values in the column\n",
    "df['CreditRating']"
   ]
  },
  {
   "cell_type": "code",
   "execution_count": 23,
   "metadata": {},
   "outputs": [
    {
     "data": {
      "text/html": [
       "<div>\n",
       "<style scoped>\n",
       "    .dataframe tbody tr th:only-of-type {\n",
       "        vertical-align: middle;\n",
       "    }\n",
       "\n",
       "    .dataframe tbody tr th {\n",
       "        vertical-align: top;\n",
       "    }\n",
       "\n",
       "    .dataframe thead th {\n",
       "        text-align: right;\n",
       "    }\n",
       "</style>\n",
       "<table border=\"1\" class=\"dataframe\">\n",
       "  <thead>\n",
       "    <tr style=\"text-align: right;\">\n",
       "      <th></th>\n",
       "      <th>CreditRating__1-Highest</th>\n",
       "      <th>CreditRating__2-High</th>\n",
       "      <th>CreditRating__3-Good</th>\n",
       "      <th>CreditRating__4-Medium</th>\n",
       "      <th>CreditRating__5-Low</th>\n",
       "      <th>CreditRating__6-VeryLow</th>\n",
       "      <th>CreditRating__7-Lowest</th>\n",
       "    </tr>\n",
       "  </thead>\n",
       "  <tbody>\n",
       "    <tr>\n",
       "      <th>0</th>\n",
       "      <td>True</td>\n",
       "      <td>False</td>\n",
       "      <td>False</td>\n",
       "      <td>False</td>\n",
       "      <td>False</td>\n",
       "      <td>False</td>\n",
       "      <td>False</td>\n",
       "    </tr>\n",
       "    <tr>\n",
       "      <th>1</th>\n",
       "      <td>False</td>\n",
       "      <td>False</td>\n",
       "      <td>False</td>\n",
       "      <td>True</td>\n",
       "      <td>False</td>\n",
       "      <td>False</td>\n",
       "      <td>False</td>\n",
       "    </tr>\n",
       "    <tr>\n",
       "      <th>2</th>\n",
       "      <td>False</td>\n",
       "      <td>False</td>\n",
       "      <td>True</td>\n",
       "      <td>False</td>\n",
       "      <td>False</td>\n",
       "      <td>False</td>\n",
       "      <td>False</td>\n",
       "    </tr>\n",
       "    <tr>\n",
       "      <th>3</th>\n",
       "      <td>False</td>\n",
       "      <td>False</td>\n",
       "      <td>False</td>\n",
       "      <td>True</td>\n",
       "      <td>False</td>\n",
       "      <td>False</td>\n",
       "      <td>False</td>\n",
       "    </tr>\n",
       "    <tr>\n",
       "      <th>4</th>\n",
       "      <td>True</td>\n",
       "      <td>False</td>\n",
       "      <td>False</td>\n",
       "      <td>False</td>\n",
       "      <td>False</td>\n",
       "      <td>False</td>\n",
       "      <td>False</td>\n",
       "    </tr>\n",
       "    <tr>\n",
       "      <th>...</th>\n",
       "      <td>...</td>\n",
       "      <td>...</td>\n",
       "      <td>...</td>\n",
       "      <td>...</td>\n",
       "      <td>...</td>\n",
       "      <td>...</td>\n",
       "      <td>...</td>\n",
       "    </tr>\n",
       "    <tr>\n",
       "      <th>51042</th>\n",
       "      <td>True</td>\n",
       "      <td>False</td>\n",
       "      <td>False</td>\n",
       "      <td>False</td>\n",
       "      <td>False</td>\n",
       "      <td>False</td>\n",
       "      <td>False</td>\n",
       "    </tr>\n",
       "    <tr>\n",
       "      <th>51043</th>\n",
       "      <td>False</td>\n",
       "      <td>False</td>\n",
       "      <td>True</td>\n",
       "      <td>False</td>\n",
       "      <td>False</td>\n",
       "      <td>False</td>\n",
       "      <td>False</td>\n",
       "    </tr>\n",
       "    <tr>\n",
       "      <th>51044</th>\n",
       "      <td>False</td>\n",
       "      <td>False</td>\n",
       "      <td>False</td>\n",
       "      <td>False</td>\n",
       "      <td>True</td>\n",
       "      <td>False</td>\n",
       "      <td>False</td>\n",
       "    </tr>\n",
       "    <tr>\n",
       "      <th>51045</th>\n",
       "      <td>False</td>\n",
       "      <td>False</td>\n",
       "      <td>False</td>\n",
       "      <td>False</td>\n",
       "      <td>True</td>\n",
       "      <td>False</td>\n",
       "      <td>False</td>\n",
       "    </tr>\n",
       "    <tr>\n",
       "      <th>51046</th>\n",
       "      <td>False</td>\n",
       "      <td>False</td>\n",
       "      <td>False</td>\n",
       "      <td>False</td>\n",
       "      <td>True</td>\n",
       "      <td>False</td>\n",
       "      <td>False</td>\n",
       "    </tr>\n",
       "  </tbody>\n",
       "</table>\n",
       "<p>51047 rows × 7 columns</p>\n",
       "</div>"
      ],
      "text/plain": [
       "       CreditRating__1-Highest  CreditRating__2-High  CreditRating__3-Good  \\\n",
       "0                         True                 False                 False   \n",
       "1                        False                 False                 False   \n",
       "2                        False                 False                  True   \n",
       "3                        False                 False                 False   \n",
       "4                         True                 False                 False   \n",
       "...                        ...                   ...                   ...   \n",
       "51042                     True                 False                 False   \n",
       "51043                    False                 False                  True   \n",
       "51044                    False                 False                 False   \n",
       "51045                    False                 False                 False   \n",
       "51046                    False                 False                 False   \n",
       "\n",
       "       CreditRating__4-Medium  CreditRating__5-Low  CreditRating__6-VeryLow  \\\n",
       "0                       False                False                    False   \n",
       "1                        True                False                    False   \n",
       "2                       False                False                    False   \n",
       "3                        True                False                    False   \n",
       "4                       False                False                    False   \n",
       "...                       ...                  ...                      ...   \n",
       "51042                   False                False                    False   \n",
       "51043                   False                False                    False   \n",
       "51044                   False                 True                    False   \n",
       "51045                   False                 True                    False   \n",
       "51046                   False                 True                    False   \n",
       "\n",
       "       CreditRating__7-Lowest  \n",
       "0                       False  \n",
       "1                       False  \n",
       "2                       False  \n",
       "3                       False  \n",
       "4                       False  \n",
       "...                       ...  \n",
       "51042                   False  \n",
       "51043                   False  \n",
       "51044                   False  \n",
       "51045                   False  \n",
       "51046                   False  \n",
       "\n",
       "[51047 rows x 7 columns]"
      ]
     },
     "execution_count": 23,
     "metadata": {},
     "output_type": "execute_result"
    }
   ],
   "source": [
    "# Use pd.get_dummies() to create a new DataFrame with the one-hot encoded values.\n",
    "df_CreditRating = pd.get_dummies(df['CreditRating'], prefix='CreditRating_')\n",
    "df_CreditRating"
   ]
  },
  {
   "cell_type": "code",
   "execution_count": 24,
   "metadata": {},
   "outputs": [],
   "source": [
    "# Concatenate DataFrame df with the one-hot encoded DataFrame df_CreditRating\n",
    "df = df.join(df_CreditRating)\n",
    "\n",
    "# Remove the original 'CreditRating' column from DataFrame df\n",
    "df.drop(columns = 'CreditRating', inplace=True)\n"
   ]
  },
  {
   "cell_type": "markdown",
   "metadata": {},
   "source": [
    "#### `PrizmCode` Column"
   ]
  },
  {
   "cell_type": "markdown",
   "metadata": {},
   "source": [
    "Note that each row in the `PrizmCode` column contains one of four possible values. Therefore, we will replace the `PrizmCode` column with four new columns (one column per value)."
   ]
  },
  {
   "cell_type": "code",
   "execution_count": 25,
   "metadata": {},
   "outputs": [
    {
     "data": {
      "text/plain": [
       "0        Suburban\n",
       "1        Suburban\n",
       "2            Town\n",
       "3           Other\n",
       "4           Other\n",
       "           ...   \n",
       "51042    Suburban\n",
       "51043       Other\n",
       "51044       Other\n",
       "51045       Other\n",
       "51046       Other\n",
       "Name: PrizmCode, Length: 51047, dtype: object"
      ]
     },
     "execution_count": 25,
     "metadata": {},
     "output_type": "execute_result"
    }
   ],
   "source": [
    "# Inspect the values in the column\n",
    "df['PrizmCode']"
   ]
  },
  {
   "cell_type": "code",
   "execution_count": 26,
   "metadata": {},
   "outputs": [
    {
     "data": {
      "text/html": [
       "<div>\n",
       "<style scoped>\n",
       "    .dataframe tbody tr th:only-of-type {\n",
       "        vertical-align: middle;\n",
       "    }\n",
       "\n",
       "    .dataframe tbody tr th {\n",
       "        vertical-align: top;\n",
       "    }\n",
       "\n",
       "    .dataframe thead th {\n",
       "        text-align: right;\n",
       "    }\n",
       "</style>\n",
       "<table border=\"1\" class=\"dataframe\">\n",
       "  <thead>\n",
       "    <tr style=\"text-align: right;\">\n",
       "      <th></th>\n",
       "      <th>PrizmCode__Other</th>\n",
       "      <th>PrizmCode__Rural</th>\n",
       "      <th>PrizmCode__Suburban</th>\n",
       "      <th>PrizmCode__Town</th>\n",
       "    </tr>\n",
       "  </thead>\n",
       "  <tbody>\n",
       "    <tr>\n",
       "      <th>0</th>\n",
       "      <td>False</td>\n",
       "      <td>False</td>\n",
       "      <td>True</td>\n",
       "      <td>False</td>\n",
       "    </tr>\n",
       "    <tr>\n",
       "      <th>1</th>\n",
       "      <td>False</td>\n",
       "      <td>False</td>\n",
       "      <td>True</td>\n",
       "      <td>False</td>\n",
       "    </tr>\n",
       "    <tr>\n",
       "      <th>2</th>\n",
       "      <td>False</td>\n",
       "      <td>False</td>\n",
       "      <td>False</td>\n",
       "      <td>True</td>\n",
       "    </tr>\n",
       "    <tr>\n",
       "      <th>3</th>\n",
       "      <td>True</td>\n",
       "      <td>False</td>\n",
       "      <td>False</td>\n",
       "      <td>False</td>\n",
       "    </tr>\n",
       "    <tr>\n",
       "      <th>4</th>\n",
       "      <td>True</td>\n",
       "      <td>False</td>\n",
       "      <td>False</td>\n",
       "      <td>False</td>\n",
       "    </tr>\n",
       "    <tr>\n",
       "      <th>...</th>\n",
       "      <td>...</td>\n",
       "      <td>...</td>\n",
       "      <td>...</td>\n",
       "      <td>...</td>\n",
       "    </tr>\n",
       "    <tr>\n",
       "      <th>51042</th>\n",
       "      <td>False</td>\n",
       "      <td>False</td>\n",
       "      <td>True</td>\n",
       "      <td>False</td>\n",
       "    </tr>\n",
       "    <tr>\n",
       "      <th>51043</th>\n",
       "      <td>True</td>\n",
       "      <td>False</td>\n",
       "      <td>False</td>\n",
       "      <td>False</td>\n",
       "    </tr>\n",
       "    <tr>\n",
       "      <th>51044</th>\n",
       "      <td>True</td>\n",
       "      <td>False</td>\n",
       "      <td>False</td>\n",
       "      <td>False</td>\n",
       "    </tr>\n",
       "    <tr>\n",
       "      <th>51045</th>\n",
       "      <td>True</td>\n",
       "      <td>False</td>\n",
       "      <td>False</td>\n",
       "      <td>False</td>\n",
       "    </tr>\n",
       "    <tr>\n",
       "      <th>51046</th>\n",
       "      <td>True</td>\n",
       "      <td>False</td>\n",
       "      <td>False</td>\n",
       "      <td>False</td>\n",
       "    </tr>\n",
       "  </tbody>\n",
       "</table>\n",
       "<p>51047 rows × 4 columns</p>\n",
       "</div>"
      ],
      "text/plain": [
       "       PrizmCode__Other  PrizmCode__Rural  PrizmCode__Suburban  \\\n",
       "0                 False             False                 True   \n",
       "1                 False             False                 True   \n",
       "2                 False             False                False   \n",
       "3                  True             False                False   \n",
       "4                  True             False                False   \n",
       "...                 ...               ...                  ...   \n",
       "51042             False             False                 True   \n",
       "51043              True             False                False   \n",
       "51044              True             False                False   \n",
       "51045              True             False                False   \n",
       "51046              True             False                False   \n",
       "\n",
       "       PrizmCode__Town  \n",
       "0                False  \n",
       "1                False  \n",
       "2                 True  \n",
       "3                False  \n",
       "4                False  \n",
       "...                ...  \n",
       "51042            False  \n",
       "51043            False  \n",
       "51044            False  \n",
       "51045            False  \n",
       "51046            False  \n",
       "\n",
       "[51047 rows x 4 columns]"
      ]
     },
     "execution_count": 26,
     "metadata": {},
     "output_type": "execute_result"
    }
   ],
   "source": [
    "# Use pd.get_dummies() to create a new DataFrame with the one-hot encoded values.\n",
    "df_PrizmCode = pd.get_dummies(df['PrizmCode'], prefix='PrizmCode_')\n",
    "df_PrizmCode"
   ]
  },
  {
   "cell_type": "code",
   "execution_count": 27,
   "metadata": {},
   "outputs": [],
   "source": [
    "# Concatenate DataFrame df with the one-hot encoded DataFrame df_PrizmCode\n",
    "df = df.join(df_PrizmCode)\n",
    "\n",
    "# Remove the original 'PrizmCode' column from DataFrame df\n",
    "df.drop(columns = 'PrizmCode', inplace=True)\n"
   ]
  },
  {
   "cell_type": "markdown",
   "metadata": {},
   "source": [
    "#### `Occupation` Column"
   ]
  },
  {
   "cell_type": "markdown",
   "metadata": {},
   "source": [
    "Note that each row in the `Occupation` column contains one of eight possible values. Therefore, we will replace the `Occupation` column with eight new columns (one column per value).\n"
   ]
  },
  {
   "cell_type": "code",
   "execution_count": 28,
   "metadata": {},
   "outputs": [
    {
     "data": {
      "text/plain": [
       "0        Professional\n",
       "1        Professional\n",
       "2              Crafts\n",
       "3               Other\n",
       "4        Professional\n",
       "             ...     \n",
       "51042           Other\n",
       "51043           Other\n",
       "51044        Clerical\n",
       "51045           Other\n",
       "51046           Other\n",
       "Name: Occupation, Length: 51047, dtype: object"
      ]
     },
     "execution_count": 28,
     "metadata": {},
     "output_type": "execute_result"
    }
   ],
   "source": [
    "# Inspect the values in the column\n",
    "df['Occupation']"
   ]
  },
  {
   "cell_type": "code",
   "execution_count": 29,
   "metadata": {},
   "outputs": [
    {
     "data": {
      "text/html": [
       "<div>\n",
       "<style scoped>\n",
       "    .dataframe tbody tr th:only-of-type {\n",
       "        vertical-align: middle;\n",
       "    }\n",
       "\n",
       "    .dataframe tbody tr th {\n",
       "        vertical-align: top;\n",
       "    }\n",
       "\n",
       "    .dataframe thead th {\n",
       "        text-align: right;\n",
       "    }\n",
       "</style>\n",
       "<table border=\"1\" class=\"dataframe\">\n",
       "  <thead>\n",
       "    <tr style=\"text-align: right;\">\n",
       "      <th></th>\n",
       "      <th>Occupation__Clerical</th>\n",
       "      <th>Occupation__Crafts</th>\n",
       "      <th>Occupation__Homemaker</th>\n",
       "      <th>Occupation__Other</th>\n",
       "      <th>Occupation__Professional</th>\n",
       "      <th>Occupation__Retired</th>\n",
       "      <th>Occupation__Self</th>\n",
       "      <th>Occupation__Student</th>\n",
       "    </tr>\n",
       "  </thead>\n",
       "  <tbody>\n",
       "    <tr>\n",
       "      <th>0</th>\n",
       "      <td>False</td>\n",
       "      <td>False</td>\n",
       "      <td>False</td>\n",
       "      <td>False</td>\n",
       "      <td>True</td>\n",
       "      <td>False</td>\n",
       "      <td>False</td>\n",
       "      <td>False</td>\n",
       "    </tr>\n",
       "    <tr>\n",
       "      <th>1</th>\n",
       "      <td>False</td>\n",
       "      <td>False</td>\n",
       "      <td>False</td>\n",
       "      <td>False</td>\n",
       "      <td>True</td>\n",
       "      <td>False</td>\n",
       "      <td>False</td>\n",
       "      <td>False</td>\n",
       "    </tr>\n",
       "    <tr>\n",
       "      <th>2</th>\n",
       "      <td>False</td>\n",
       "      <td>True</td>\n",
       "      <td>False</td>\n",
       "      <td>False</td>\n",
       "      <td>False</td>\n",
       "      <td>False</td>\n",
       "      <td>False</td>\n",
       "      <td>False</td>\n",
       "    </tr>\n",
       "    <tr>\n",
       "      <th>3</th>\n",
       "      <td>False</td>\n",
       "      <td>False</td>\n",
       "      <td>False</td>\n",
       "      <td>True</td>\n",
       "      <td>False</td>\n",
       "      <td>False</td>\n",
       "      <td>False</td>\n",
       "      <td>False</td>\n",
       "    </tr>\n",
       "    <tr>\n",
       "      <th>4</th>\n",
       "      <td>False</td>\n",
       "      <td>False</td>\n",
       "      <td>False</td>\n",
       "      <td>False</td>\n",
       "      <td>True</td>\n",
       "      <td>False</td>\n",
       "      <td>False</td>\n",
       "      <td>False</td>\n",
       "    </tr>\n",
       "    <tr>\n",
       "      <th>...</th>\n",
       "      <td>...</td>\n",
       "      <td>...</td>\n",
       "      <td>...</td>\n",
       "      <td>...</td>\n",
       "      <td>...</td>\n",
       "      <td>...</td>\n",
       "      <td>...</td>\n",
       "      <td>...</td>\n",
       "    </tr>\n",
       "    <tr>\n",
       "      <th>51042</th>\n",
       "      <td>False</td>\n",
       "      <td>False</td>\n",
       "      <td>False</td>\n",
       "      <td>True</td>\n",
       "      <td>False</td>\n",
       "      <td>False</td>\n",
       "      <td>False</td>\n",
       "      <td>False</td>\n",
       "    </tr>\n",
       "    <tr>\n",
       "      <th>51043</th>\n",
       "      <td>False</td>\n",
       "      <td>False</td>\n",
       "      <td>False</td>\n",
       "      <td>True</td>\n",
       "      <td>False</td>\n",
       "      <td>False</td>\n",
       "      <td>False</td>\n",
       "      <td>False</td>\n",
       "    </tr>\n",
       "    <tr>\n",
       "      <th>51044</th>\n",
       "      <td>True</td>\n",
       "      <td>False</td>\n",
       "      <td>False</td>\n",
       "      <td>False</td>\n",
       "      <td>False</td>\n",
       "      <td>False</td>\n",
       "      <td>False</td>\n",
       "      <td>False</td>\n",
       "    </tr>\n",
       "    <tr>\n",
       "      <th>51045</th>\n",
       "      <td>False</td>\n",
       "      <td>False</td>\n",
       "      <td>False</td>\n",
       "      <td>True</td>\n",
       "      <td>False</td>\n",
       "      <td>False</td>\n",
       "      <td>False</td>\n",
       "      <td>False</td>\n",
       "    </tr>\n",
       "    <tr>\n",
       "      <th>51046</th>\n",
       "      <td>False</td>\n",
       "      <td>False</td>\n",
       "      <td>False</td>\n",
       "      <td>True</td>\n",
       "      <td>False</td>\n",
       "      <td>False</td>\n",
       "      <td>False</td>\n",
       "      <td>False</td>\n",
       "    </tr>\n",
       "  </tbody>\n",
       "</table>\n",
       "<p>51047 rows × 8 columns</p>\n",
       "</div>"
      ],
      "text/plain": [
       "       Occupation__Clerical  Occupation__Crafts  Occupation__Homemaker  \\\n",
       "0                     False               False                  False   \n",
       "1                     False               False                  False   \n",
       "2                     False                True                  False   \n",
       "3                     False               False                  False   \n",
       "4                     False               False                  False   \n",
       "...                     ...                 ...                    ...   \n",
       "51042                 False               False                  False   \n",
       "51043                 False               False                  False   \n",
       "51044                  True               False                  False   \n",
       "51045                 False               False                  False   \n",
       "51046                 False               False                  False   \n",
       "\n",
       "       Occupation__Other  Occupation__Professional  Occupation__Retired  \\\n",
       "0                  False                      True                False   \n",
       "1                  False                      True                False   \n",
       "2                  False                     False                False   \n",
       "3                   True                     False                False   \n",
       "4                  False                      True                False   \n",
       "...                  ...                       ...                  ...   \n",
       "51042               True                     False                False   \n",
       "51043               True                     False                False   \n",
       "51044              False                     False                False   \n",
       "51045               True                     False                False   \n",
       "51046               True                     False                False   \n",
       "\n",
       "       Occupation__Self  Occupation__Student  \n",
       "0                 False                False  \n",
       "1                 False                False  \n",
       "2                 False                False  \n",
       "3                 False                False  \n",
       "4                 False                False  \n",
       "...                 ...                  ...  \n",
       "51042             False                False  \n",
       "51043             False                False  \n",
       "51044             False                False  \n",
       "51045             False                False  \n",
       "51046             False                False  \n",
       "\n",
       "[51047 rows x 8 columns]"
      ]
     },
     "execution_count": 29,
     "metadata": {},
     "output_type": "execute_result"
    }
   ],
   "source": [
    "# Use pd.get_dummies() to create a new DataFrame with the one-hot encoded values.\n",
    "df_Occupation = pd.get_dummies(df['Occupation'], prefix='Occupation_')\n",
    "df_Occupation"
   ]
  },
  {
   "cell_type": "code",
   "execution_count": 30,
   "metadata": {},
   "outputs": [],
   "source": [
    "# Concatenate DataFrame df with the one-hot encoded DataFrame df_Occupation\n",
    "df = df.join(df_Occupation)\n",
    "\n",
    "# Remove the original 'Occupation' column from DataFrame df\n",
    "df.drop(columns = 'Occupation', inplace=True)\n"
   ]
  },
  {
   "cell_type": "markdown",
   "metadata": {},
   "source": [
    "Let's now inspect DataFrame `df` and see how the columns have been transformed. Notice the new dimensions of `df`: we previously had 58 columns and now we have 84."
   ]
  },
  {
   "cell_type": "code",
   "execution_count": 31,
   "metadata": {},
   "outputs": [
    {
     "data": {
      "text/plain": [
       "Index(['CustomerID', 'Churn', 'ChildrenInHH', 'HandsetRefurbished',\n",
       "       'HandsetWebCapable', 'TruckOwner', 'RVOwner', 'HomeownershipKnown',\n",
       "       'BuysViaMailOrder', 'RespondsToMailOffers', 'OptOutMailings',\n",
       "       'NonUSTravel', 'OwnsComputer', 'HasCreditCard', 'NewCellphoneUser',\n",
       "       'NotNewCellphoneUser', 'OwnsMotorcycle', 'MadeCallToRetentionTeam',\n",
       "       'MonthlyRevenue', 'MonthlyMinutes', 'TotalRecurringCharge',\n",
       "       'DirectorAssistedCalls', 'OverageMinutes', 'RoamingCalls',\n",
       "       'PercChangeMinutes', 'PercChangeRevenues', 'DroppedCalls',\n",
       "       'BlockedCalls', 'UnansweredCalls', 'CustomerCareCalls', 'ThreewayCalls',\n",
       "       'ReceivedCalls', 'OutboundCalls', 'InboundCalls', 'PeakCallsInOut',\n",
       "       'OffPeakCallsInOut', 'DroppedBlockedCalls', 'CallForwardingCalls',\n",
       "       'CallWaitingCalls', 'MonthsInService', 'UniqueSubs', 'ActiveSubs',\n",
       "       'Handsets', 'HandsetModels', 'CurrentEquipmentDays', 'AgeHH1', 'AgeHH2',\n",
       "       'RetentionCalls', 'RetentionOffersAccepted',\n",
       "       'ReferralsMadeBySubscriber', 'IncomeGroup', 'AdjustmentsToCreditRating',\n",
       "       'HandsetPrice', 'ServiceArea_NYCBRO917', 'ServiceArea_HOUHOU281',\n",
       "       'ServiceArea_DALDAL214', 'ServiceArea_NYCMAN917',\n",
       "       'ServiceArea_APCFCH703', 'ServiceArea_DALFTW817',\n",
       "       'ServiceArea_SANSAN210', 'ServiceArea_APCSIL301',\n",
       "       'ServiceArea_SANAUS512', 'ServiceArea_SFROAK510', 'Married__False',\n",
       "       'Married__True', 'CreditRating__1-Highest', 'CreditRating__2-High',\n",
       "       'CreditRating__3-Good', 'CreditRating__4-Medium', 'CreditRating__5-Low',\n",
       "       'CreditRating__6-VeryLow', 'CreditRating__7-Lowest', 'PrizmCode__Other',\n",
       "       'PrizmCode__Rural', 'PrizmCode__Suburban', 'PrizmCode__Town',\n",
       "       'Occupation__Clerical', 'Occupation__Crafts', 'Occupation__Homemaker',\n",
       "       'Occupation__Other', 'Occupation__Professional', 'Occupation__Retired',\n",
       "       'Occupation__Self', 'Occupation__Student'],\n",
       "      dtype='object')"
      ]
     },
     "execution_count": 31,
     "metadata": {},
     "output_type": "execute_result"
    }
   ],
   "source": [
    "df.columns"
   ]
  },
  {
   "cell_type": "code",
   "execution_count": 32,
   "metadata": {},
   "outputs": [
    {
     "data": {
      "text/plain": [
       "(51047, 84)"
      ]
     },
     "execution_count": 32,
     "metadata": {},
     "output_type": "execute_result"
    }
   ],
   "source": [
    "df.shape"
   ]
  },
  {
   "cell_type": "code",
   "execution_count": null,
   "metadata": {},
   "outputs": [],
   "source": []
  }
 ],
 "metadata": {
  "kernelspec": {
   "display_name": "base",
   "language": "python",
   "name": "python3"
  },
  "language_info": {
   "codemirror_mode": {
    "name": "ipython",
    "version": 3
   },
   "file_extension": ".py",
   "mimetype": "text/x-python",
   "name": "python",
   "nbconvert_exporter": "python",
   "pygments_lexer": "ipython3",
   "version": "3.12.4"
  },
  "toc": {
   "base_numbering": 1,
   "nav_menu": {},
   "number_sections": false,
   "sideBar": true,
   "skip_h1_title": false,
   "title_cell": "Table of Contents",
   "title_sidebar": "Contents",
   "toc_cell": false,
   "toc_position": {},
   "toc_section_display": true,
   "toc_window_display": false
  },
  "varInspector": {
   "cols": {
    "lenName": 16,
    "lenType": 16,
    "lenVar": 40
   },
   "kernels_config": {
    "python": {
     "delete_cmd_postfix": "",
     "delete_cmd_prefix": "del ",
     "library": "var_list.py",
     "varRefreshCmd": "print(var_dic_list())"
    },
    "r": {
     "delete_cmd_postfix": ") ",
     "delete_cmd_prefix": "rm(",
     "library": "var_list.r",
     "varRefreshCmd": "cat(var_dic_list()) "
    }
   },
   "types_to_exclude": [
    "module",
    "function",
    "builtin_function_or_method",
    "instance",
    "_Feature"
   ],
   "window_display": false
  }
 },
 "nbformat": 4,
 "nbformat_minor": 2
}
