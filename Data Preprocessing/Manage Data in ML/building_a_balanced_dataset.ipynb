{
  "cells": [
    {
      "cell_type": "markdown",
      "metadata": {
        "id": "MxURJw03Y-Zo"
      },
      "source": [
        "# Building a Balanced Data Set"
      ]
    },
    {
      "cell_type": "code",
      "execution_count": 1,
      "metadata": {
        "id": "ecjYOUfjYjry"
      },
      "outputs": [],
      "source": [
        "import pandas as pd\n",
        "import numpy as np\n",
        "import os"
      ]
    },
    {
      "cell_type": "markdown",
      "metadata": {
        "id": "hgxPzEIDZqeu"
      },
      "source": [
        "## Step 1: Inspect the Data\n"
      ]
    },
    {
      "cell_type": "code",
      "execution_count": 2,
      "metadata": {
        "id": "RRHJtJtLY-DC"
      },
      "outputs": [],
      "source": [
        "filename = os.path.join(os.getcwd(), \"..\", \"..\", \"data\", \"censusData.csv\")\n",
        "df = pd.read_csv(filename)"
      ]
    },
    {
      "cell_type": "code",
      "execution_count": 3,
      "metadata": {
        "colab": {
          "base_uri": "https://localhost:8080/",
          "height": 328
        },
        "id": "i8QFvdovYuLr",
        "outputId": "de58878c-9d67-4665-8e55-2b90f4366941"
      },
      "outputs": [
        {
          "data": {
            "text/html": [
              "<div>\n",
              "<style scoped>\n",
              "    .dataframe tbody tr th:only-of-type {\n",
              "        vertical-align: middle;\n",
              "    }\n",
              "\n",
              "    .dataframe tbody tr th {\n",
              "        vertical-align: top;\n",
              "    }\n",
              "\n",
              "    .dataframe thead th {\n",
              "        text-align: right;\n",
              "    }\n",
              "</style>\n",
              "<table border=\"1\" class=\"dataframe\">\n",
              "  <thead>\n",
              "    <tr style=\"text-align: right;\">\n",
              "      <th></th>\n",
              "      <th>age</th>\n",
              "      <th>workclass</th>\n",
              "      <th>fnlwgt</th>\n",
              "      <th>education</th>\n",
              "      <th>education-num</th>\n",
              "      <th>marital-status</th>\n",
              "      <th>occupation</th>\n",
              "      <th>relationship</th>\n",
              "      <th>race</th>\n",
              "      <th>sex_selfID</th>\n",
              "      <th>capital-gain</th>\n",
              "      <th>capital-loss</th>\n",
              "      <th>hours-per-week</th>\n",
              "      <th>native-country</th>\n",
              "      <th>income</th>\n",
              "    </tr>\n",
              "  </thead>\n",
              "  <tbody>\n",
              "    <tr>\n",
              "      <th>0</th>\n",
              "      <td>36</td>\n",
              "      <td>State-gov</td>\n",
              "      <td>112074</td>\n",
              "      <td>Doctorate</td>\n",
              "      <td>16</td>\n",
              "      <td>Never-married</td>\n",
              "      <td>Prof-specialty</td>\n",
              "      <td>Not-in-family</td>\n",
              "      <td>White</td>\n",
              "      <td>Non-Female</td>\n",
              "      <td>0</td>\n",
              "      <td>0</td>\n",
              "      <td>45</td>\n",
              "      <td>United-States</td>\n",
              "      <td>&lt;=50K</td>\n",
              "    </tr>\n",
              "    <tr>\n",
              "      <th>1</th>\n",
              "      <td>35</td>\n",
              "      <td>Private</td>\n",
              "      <td>32528</td>\n",
              "      <td>HS-grad</td>\n",
              "      <td>9</td>\n",
              "      <td>Married-civ-spouse</td>\n",
              "      <td>Handlers-cleaners</td>\n",
              "      <td>Husband</td>\n",
              "      <td>White</td>\n",
              "      <td>Non-Female</td>\n",
              "      <td>0</td>\n",
              "      <td>0</td>\n",
              "      <td>45</td>\n",
              "      <td>United-States</td>\n",
              "      <td>&lt;=50K</td>\n",
              "    </tr>\n",
              "    <tr>\n",
              "      <th>2</th>\n",
              "      <td>21</td>\n",
              "      <td>Private</td>\n",
              "      <td>270043</td>\n",
              "      <td>Some-college</td>\n",
              "      <td>10</td>\n",
              "      <td>Never-married</td>\n",
              "      <td>Other-service</td>\n",
              "      <td>Own-child</td>\n",
              "      <td>White</td>\n",
              "      <td>Female</td>\n",
              "      <td>0</td>\n",
              "      <td>0</td>\n",
              "      <td>16</td>\n",
              "      <td>United-States</td>\n",
              "      <td>&lt;=50K</td>\n",
              "    </tr>\n",
              "    <tr>\n",
              "      <th>3</th>\n",
              "      <td>45</td>\n",
              "      <td>Private</td>\n",
              "      <td>168837</td>\n",
              "      <td>Some-college</td>\n",
              "      <td>10</td>\n",
              "      <td>Married-civ-spouse</td>\n",
              "      <td>Adm-clerical</td>\n",
              "      <td>Wife</td>\n",
              "      <td>White</td>\n",
              "      <td>Female</td>\n",
              "      <td>0</td>\n",
              "      <td>0</td>\n",
              "      <td>24</td>\n",
              "      <td>Canada</td>\n",
              "      <td>&gt;50K</td>\n",
              "    </tr>\n",
              "    <tr>\n",
              "      <th>4</th>\n",
              "      <td>39</td>\n",
              "      <td>Private</td>\n",
              "      <td>297449</td>\n",
              "      <td>Bachelors</td>\n",
              "      <td>13</td>\n",
              "      <td>Married-civ-spouse</td>\n",
              "      <td>Prof-specialty</td>\n",
              "      <td>Husband</td>\n",
              "      <td>White</td>\n",
              "      <td>Non-Female</td>\n",
              "      <td>0</td>\n",
              "      <td>0</td>\n",
              "      <td>40</td>\n",
              "      <td>United-States</td>\n",
              "      <td>&gt;50K</td>\n",
              "    </tr>\n",
              "  </tbody>\n",
              "</table>\n",
              "</div>"
            ],
            "text/plain": [
              "   age  workclass  fnlwgt     education  education-num      marital-status  \\\n",
              "0   36  State-gov  112074     Doctorate             16       Never-married   \n",
              "1   35    Private   32528       HS-grad              9  Married-civ-spouse   \n",
              "2   21    Private  270043  Some-college             10       Never-married   \n",
              "3   45    Private  168837  Some-college             10  Married-civ-spouse   \n",
              "4   39    Private  297449     Bachelors             13  Married-civ-spouse   \n",
              "\n",
              "          occupation   relationship   race  sex_selfID  capital-gain  \\\n",
              "0     Prof-specialty  Not-in-family  White  Non-Female             0   \n",
              "1  Handlers-cleaners        Husband  White  Non-Female             0   \n",
              "2      Other-service      Own-child  White      Female             0   \n",
              "3       Adm-clerical           Wife  White      Female             0   \n",
              "4     Prof-specialty        Husband  White  Non-Female             0   \n",
              "\n",
              "   capital-loss  hours-per-week native-country income  \n",
              "0             0              45  United-States  <=50K  \n",
              "1             0              45  United-States  <=50K  \n",
              "2             0              16  United-States  <=50K  \n",
              "3             0              24         Canada   >50K  \n",
              "4             0              40  United-States   >50K  "
            ]
          },
          "execution_count": 3,
          "metadata": {},
          "output_type": "execute_result"
        }
      ],
      "source": [
        "df.head()"
      ]
    },
    {
      "cell_type": "code",
      "execution_count": 4,
      "metadata": {
        "colab": {
          "base_uri": "https://localhost:8080/"
        },
        "id": "WujQRgrqZ8EQ",
        "outputId": "ae27c0b7-f911-4a6e-f324-982170cef901"
      },
      "outputs": [
        {
          "data": {
            "text/plain": [
              "(7000, 15)"
            ]
          },
          "execution_count": 4,
          "metadata": {},
          "output_type": "execute_result"
        }
      ],
      "source": [
        "df.shape"
      ]
    },
    {
      "cell_type": "markdown",
      "metadata": {
        "id": "h1oqQ_3OZ_U4"
      },
      "source": [
        "## Step 2: Random Sampling of the Data\n",
        "Random sampling from the data using `np.random.choice` and `loc`"
      ]
    },
    {
      "cell_type": "code",
      "execution_count": 5,
      "metadata": {
        "id": "_b1ATdLaaAao"
      },
      "outputs": [],
      "source": [
        "percentage = 0.3\n",
        "num_rows = df.shape[0]\n",
        "\n",
        "# YOUR CODE HERE\n",
        "df_subset = df.sample(int(percentage*num_rows))\n",
        "\n"
      ]
    },
    {
      "cell_type": "markdown",
      "metadata": {
        "id": "bJdpO-AOas7j"
      },
      "source": [
        "## Step 3: Verifying Imbalance\n",
        "Is our sample *balanced* with respect to (self-reported) sex? In order to answer that, first we'd like to know how many categories exist for the 'sex_selfID' values in our data."
      ]
    },
    {
      "cell_type": "code",
      "execution_count": 6,
      "metadata": {
        "colab": {
          "base_uri": "https://localhost:8080/"
        },
        "id": "gUN5BrGyatmr",
        "outputId": "dec14d86-225f-4fb1-9410-3f5453404af8"
      },
      "outputs": [
        {
          "data": {
            "text/plain": [
              "array(['Non-Female', 'Female'], dtype=object)"
            ]
          },
          "execution_count": 6,
          "metadata": {},
          "output_type": "execute_result"
        }
      ],
      "source": [
        "unique_ssID = df['sex_selfID'].unique()\n",
        "unique_ssID"
      ]
    },
    {
      "cell_type": "markdown",
      "metadata": {
        "id": "wAEkChGdj7Tl"
      },
      "source": [
        "### Calculating the Proportion of Each Class\n",
        "How many 'Female' examples are in our data sample?\n",
        "\n",
        "The code cell below uses `np.sum()` to sum up  the `True` values that indicate whether a row has `Female` in the `sex_selfID` field. It divides that sum by the total number of rows in the DataFrame `df_subset`. Run the code to display the results. Note that the sample is not balanced with respect to self-reported sex (assuming that we want balance for the two classes)."
      ]
    },
    {
      "cell_type": "code",
      "execution_count": 7,
      "metadata": {
        "colab": {
          "base_uri": "https://localhost:8080/",
          "height": 178
        },
        "id": "orsXo0GLkA6x",
        "outputId": "fd8825c7-f2a4-4e5e-940d-de7ae63d4c3c"
      },
      "outputs": [
        {
          "data": {
            "text/plain": [
              "sex_selfID\n",
              "Non-Female    1401\n",
              "Female         699\n",
              "Name: count, dtype: int64"
            ]
          },
          "execution_count": 7,
          "metadata": {},
          "output_type": "execute_result"
        }
      ],
      "source": [
        "counts = df_subset['sex_selfID'].value_counts()\n",
        "counts"
      ]
    },
    {
      "cell_type": "code",
      "execution_count": 8,
      "metadata": {
        "colab": {
          "base_uri": "https://localhost:8080/"
        },
        "id": "mBX--OgpkIC_",
        "outputId": "4d2c527e-3ba4-4298-8809-796c58f4240e"
      },
      "outputs": [
        {
          "data": {
            "text/plain": [
              "0.33285714285714285"
            ]
          },
          "execution_count": 8,
          "metadata": {},
          "output_type": "execute_result"
        }
      ],
      "source": [
        "counts['Female']/sum(counts.values)"
      ]
    },
    {
      "cell_type": "code",
      "execution_count": 9,
      "metadata": {
        "colab": {
          "base_uri": "https://localhost:8080/",
          "height": 241
        },
        "id": "dGuYfFz5kTS3",
        "outputId": "d2f8fe9e-3ea6-4e2e-8191-213d399a592b"
      },
      "outputs": [
        {
          "data": {
            "text/plain": [
              "sex_selfID  income\n",
              "Female      <=50K     628\n",
              "            >50K       71\n",
              "Non-Female  <=50K     988\n",
              "            >50K      413\n",
              "dtype: int64"
            ]
          },
          "execution_count": 9,
          "metadata": {},
          "output_type": "execute_result"
        }
      ],
      "source": [
        "df_subset.groupby(['sex_selfID', 'income']).size()"
      ]
    },
    {
      "cell_type": "markdown",
      "metadata": {
        "id": "WNgpdL8na65h"
      },
      "source": [
        "### Addressing imbalance: upsampling the underrepresented group."
      ]
    },
    {
      "cell_type": "code",
      "execution_count": 10,
      "metadata": {
        "colab": {
          "base_uri": "https://localhost:8080/"
        },
        "id": "jvqqAL6JkY0U",
        "outputId": "c9dc0a6a-08df-459f-a459-90ddc67ec5fa"
      },
      "outputs": [
        {
          "data": {
            "text/plain": [
              "191"
            ]
          },
          "execution_count": 10,
          "metadata": {},
          "output_type": "execute_result"
        }
      ],
      "source": [
        "low_income_nonfemale, high_income_nonfemale = df_subset.groupby(['sex_selfID', 'income']).size()['Non-Female']\n",
        "class_balance_nonfemale = high_income_nonfemale / low_income_nonfemale\n",
        "\n",
        "low_income_female, high_income_female = df_subset.groupby(['sex_selfID', 'income']).size()['Female']\n",
        "\n",
        "add_sample_size = int(class_balance_nonfemale*low_income_female - high_income_female)\n",
        "add_sample_size # we need this many more points in (Female)&(>50K) group for balance"
      ]
    },
    {
      "cell_type": "code",
      "execution_count": 11,
      "metadata": {
        "colab": {
          "base_uri": "https://localhost:8080/",
          "height": 345
        },
        "id": "pkeWL1Kqkdlj",
        "outputId": "c349ee22-96ab-4668-a2b5-df01ed4bc763"
      },
      "outputs": [
        {
          "data": {
            "text/html": [
              "<div>\n",
              "<style scoped>\n",
              "    .dataframe tbody tr th:only-of-type {\n",
              "        vertical-align: middle;\n",
              "    }\n",
              "\n",
              "    .dataframe tbody tr th {\n",
              "        vertical-align: top;\n",
              "    }\n",
              "\n",
              "    .dataframe thead th {\n",
              "        text-align: right;\n",
              "    }\n",
              "</style>\n",
              "<table border=\"1\" class=\"dataframe\">\n",
              "  <thead>\n",
              "    <tr style=\"text-align: right;\">\n",
              "      <th></th>\n",
              "      <th>age</th>\n",
              "      <th>workclass</th>\n",
              "      <th>fnlwgt</th>\n",
              "      <th>education</th>\n",
              "      <th>education-num</th>\n",
              "      <th>marital-status</th>\n",
              "      <th>occupation</th>\n",
              "      <th>relationship</th>\n",
              "      <th>race</th>\n",
              "      <th>sex_selfID</th>\n",
              "      <th>capital-gain</th>\n",
              "      <th>capital-loss</th>\n",
              "      <th>hours-per-week</th>\n",
              "      <th>native-country</th>\n",
              "      <th>income</th>\n",
              "    </tr>\n",
              "  </thead>\n",
              "  <tbody>\n",
              "    <tr>\n",
              "      <th>0</th>\n",
              "      <td>34</td>\n",
              "      <td>Private</td>\n",
              "      <td>192900</td>\n",
              "      <td>Some-college</td>\n",
              "      <td>10</td>\n",
              "      <td>Married-civ-spouse</td>\n",
              "      <td>Craft-repair</td>\n",
              "      <td>Husband</td>\n",
              "      <td>White</td>\n",
              "      <td>Non-Female</td>\n",
              "      <td>0</td>\n",
              "      <td>0</td>\n",
              "      <td>40</td>\n",
              "      <td>United-States</td>\n",
              "      <td>&gt;50K</td>\n",
              "    </tr>\n",
              "    <tr>\n",
              "      <th>1</th>\n",
              "      <td>43</td>\n",
              "      <td>Private</td>\n",
              "      <td>483450</td>\n",
              "      <td>9th</td>\n",
              "      <td>5</td>\n",
              "      <td>Married-civ-spouse</td>\n",
              "      <td>Exec-managerial</td>\n",
              "      <td>Husband</td>\n",
              "      <td>White</td>\n",
              "      <td>Non-Female</td>\n",
              "      <td>0</td>\n",
              "      <td>0</td>\n",
              "      <td>40</td>\n",
              "      <td>Mexico</td>\n",
              "      <td>&lt;=50K</td>\n",
              "    </tr>\n",
              "    <tr>\n",
              "      <th>2</th>\n",
              "      <td>31</td>\n",
              "      <td>Private</td>\n",
              "      <td>38223</td>\n",
              "      <td>Bachelors</td>\n",
              "      <td>13</td>\n",
              "      <td>Never-married</td>\n",
              "      <td>Sales</td>\n",
              "      <td>Own-child</td>\n",
              "      <td>White</td>\n",
              "      <td>Non-Female</td>\n",
              "      <td>0</td>\n",
              "      <td>0</td>\n",
              "      <td>45</td>\n",
              "      <td>United-States</td>\n",
              "      <td>&lt;=50K</td>\n",
              "    </tr>\n",
              "    <tr>\n",
              "      <th>3</th>\n",
              "      <td>35</td>\n",
              "      <td>Private</td>\n",
              "      <td>220098</td>\n",
              "      <td>HS-grad</td>\n",
              "      <td>9</td>\n",
              "      <td>Married-civ-spouse</td>\n",
              "      <td>Other-service</td>\n",
              "      <td>Wife</td>\n",
              "      <td>White</td>\n",
              "      <td>Female</td>\n",
              "      <td>0</td>\n",
              "      <td>0</td>\n",
              "      <td>40</td>\n",
              "      <td>United-States</td>\n",
              "      <td>&gt;50K</td>\n",
              "    </tr>\n",
              "    <tr>\n",
              "      <th>4</th>\n",
              "      <td>33</td>\n",
              "      <td>Private</td>\n",
              "      <td>159303</td>\n",
              "      <td>HS-grad</td>\n",
              "      <td>9</td>\n",
              "      <td>Divorced</td>\n",
              "      <td>Other-service</td>\n",
              "      <td>Unmarried</td>\n",
              "      <td>White</td>\n",
              "      <td>Female</td>\n",
              "      <td>0</td>\n",
              "      <td>0</td>\n",
              "      <td>40</td>\n",
              "      <td>United-States</td>\n",
              "      <td>&lt;=50K</td>\n",
              "    </tr>\n",
              "  </tbody>\n",
              "</table>\n",
              "</div>"
            ],
            "text/plain": [
              "   age workclass  fnlwgt     education  education-num      marital-status  \\\n",
              "0   34   Private  192900  Some-college             10  Married-civ-spouse   \n",
              "1   43   Private  483450           9th              5  Married-civ-spouse   \n",
              "2   31   Private   38223     Bachelors             13       Never-married   \n",
              "3   35   Private  220098       HS-grad              9  Married-civ-spouse   \n",
              "4   33   Private  159303       HS-grad              9            Divorced   \n",
              "\n",
              "        occupation relationship   race  sex_selfID  capital-gain  \\\n",
              "0     Craft-repair      Husband  White  Non-Female             0   \n",
              "1  Exec-managerial      Husband  White  Non-Female             0   \n",
              "2            Sales    Own-child  White  Non-Female             0   \n",
              "3    Other-service         Wife  White      Female             0   \n",
              "4    Other-service    Unmarried  White      Female             0   \n",
              "\n",
              "   capital-loss  hours-per-week native-country income  \n",
              "0             0              40  United-States   >50K  \n",
              "1             0              40         Mexico  <=50K  \n",
              "2             0              45  United-States  <=50K  \n",
              "3             0              40  United-States   >50K  \n",
              "4             0              40  United-States  <=50K  "
            ]
          },
          "execution_count": 11,
          "metadata": {},
          "output_type": "execute_result"
        }
      ],
      "source": [
        "# Subset the original data: exclude entries that are already in our sample:\n",
        "df_never_sampled = df.drop(labels=df_subset.index, axis=0, inplace=False)\n",
        "\n",
        "# Filter that subset to include only the type of examples that we want to upsample: Females, higher income\n",
        "condition = (df_never_sampled['income']=='>50K') & (df_never_sampled['sex_selfID']=='Female')\n",
        "df_never_sampled_target = df_never_sampled[condition]\n",
        "\n",
        "# Sample from the resulting set\n",
        "size=min(add_sample_size, df_never_sampled_target.shape[0])\n",
        "indices = np.random.choice(df_never_sampled_target.index, size=size, replace=False)\n",
        "\n",
        "# Append the selected examples to our original sample\n",
        "rows = df.loc[indices]\n",
        "df_balanced_subset = pd.concat([df_subset, rows], ignore_index=True)\n",
        "df_balanced_subset.head()"
      ]
    },
    {
      "cell_type": "code",
      "execution_count": 12,
      "metadata": {
        "colab": {
          "base_uri": "https://localhost:8080/",
          "height": 241
        },
        "id": "0za21CWUkyun",
        "outputId": "c31c67f3-8758-4005-8b13-d73fc6354a23"
      },
      "outputs": [
        {
          "data": {
            "text/plain": [
              "sex_selfID  income\n",
              "Female      <=50K     628\n",
              "            >50K      253\n",
              "Non-Female  <=50K     988\n",
              "            >50K      413\n",
              "dtype: int64"
            ]
          },
          "execution_count": 12,
          "metadata": {},
          "output_type": "execute_result"
        }
      ],
      "source": [
        "df_balanced_subset.groupby(['sex_selfID', 'income']).size()"
      ]
    },
    {
      "cell_type": "markdown",
      "metadata": {
        "id": "4gpplckCk0v1"
      },
      "source": [
        "The resulting balance is not perfect, but it is better than before!"
      ]
    }
  ],
  "metadata": {
    "colab": {
      "provenance": []
    },
    "kernelspec": {
      "display_name": "base",
      "language": "python",
      "name": "python3"
    },
    "language_info": {
      "codemirror_mode": {
        "name": "ipython",
        "version": 3
      },
      "file_extension": ".py",
      "mimetype": "text/x-python",
      "name": "python",
      "nbconvert_exporter": "python",
      "pygments_lexer": "ipython3",
      "version": "3.12.4"
    }
  },
  "nbformat": 4,
  "nbformat_minor": 0
}
