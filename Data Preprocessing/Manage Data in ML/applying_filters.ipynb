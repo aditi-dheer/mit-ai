{
  "cells": [
    {
      "cell_type": "markdown",
      "metadata": {
        "id": "MxURJw03Y-Zo"
      },
      "source": [
        "# Applying Filters"
      ]
    },
    {
      "cell_type": "code",
      "execution_count": 5,
      "metadata": {
        "id": "ecjYOUfjYjry"
      },
      "outputs": [],
      "source": [
        "import pandas as pd\n",
        "import numpy as np\n",
        "import os"
      ]
    },
    {
      "cell_type": "markdown",
      "metadata": {
        "id": "hgxPzEIDZqeu"
      },
      "source": [
        "## Step 1: Inspect the Data\n"
      ]
    },
    {
      "cell_type": "code",
      "execution_count": 6,
      "metadata": {
        "id": "RRHJtJtLY-DC"
      },
      "outputs": [],
      "source": [
        "filename = os.path.join(os.getcwd(), \"..\", \"..\", \"data\", \"censusData.csv\")\n",
        "df = pd.read_csv(filename)"
      ]
    },
    {
      "cell_type": "code",
      "execution_count": 7,
      "metadata": {
        "colab": {
          "base_uri": "https://localhost:8080/",
          "height": 328
        },
        "id": "i8QFvdovYuLr",
        "outputId": "a41b200e-9236-4f2d-c4fd-12296e401c55"
      },
      "outputs": [
        {
          "data": {
            "text/html": [
              "<div>\n",
              "<style scoped>\n",
              "    .dataframe tbody tr th:only-of-type {\n",
              "        vertical-align: middle;\n",
              "    }\n",
              "\n",
              "    .dataframe tbody tr th {\n",
              "        vertical-align: top;\n",
              "    }\n",
              "\n",
              "    .dataframe thead th {\n",
              "        text-align: right;\n",
              "    }\n",
              "</style>\n",
              "<table border=\"1\" class=\"dataframe\">\n",
              "  <thead>\n",
              "    <tr style=\"text-align: right;\">\n",
              "      <th></th>\n",
              "      <th>age</th>\n",
              "      <th>workclass</th>\n",
              "      <th>fnlwgt</th>\n",
              "      <th>education</th>\n",
              "      <th>education-num</th>\n",
              "      <th>marital-status</th>\n",
              "      <th>occupation</th>\n",
              "      <th>relationship</th>\n",
              "      <th>race</th>\n",
              "      <th>sex_selfID</th>\n",
              "      <th>capital-gain</th>\n",
              "      <th>capital-loss</th>\n",
              "      <th>hours-per-week</th>\n",
              "      <th>native-country</th>\n",
              "      <th>income</th>\n",
              "    </tr>\n",
              "  </thead>\n",
              "  <tbody>\n",
              "    <tr>\n",
              "      <th>0</th>\n",
              "      <td>36</td>\n",
              "      <td>State-gov</td>\n",
              "      <td>112074</td>\n",
              "      <td>Doctorate</td>\n",
              "      <td>16</td>\n",
              "      <td>Never-married</td>\n",
              "      <td>Prof-specialty</td>\n",
              "      <td>Not-in-family</td>\n",
              "      <td>White</td>\n",
              "      <td>Non-Female</td>\n",
              "      <td>0</td>\n",
              "      <td>0</td>\n",
              "      <td>45</td>\n",
              "      <td>United-States</td>\n",
              "      <td>&lt;=50K</td>\n",
              "    </tr>\n",
              "    <tr>\n",
              "      <th>1</th>\n",
              "      <td>35</td>\n",
              "      <td>Private</td>\n",
              "      <td>32528</td>\n",
              "      <td>HS-grad</td>\n",
              "      <td>9</td>\n",
              "      <td>Married-civ-spouse</td>\n",
              "      <td>Handlers-cleaners</td>\n",
              "      <td>Husband</td>\n",
              "      <td>White</td>\n",
              "      <td>Non-Female</td>\n",
              "      <td>0</td>\n",
              "      <td>0</td>\n",
              "      <td>45</td>\n",
              "      <td>United-States</td>\n",
              "      <td>&lt;=50K</td>\n",
              "    </tr>\n",
              "    <tr>\n",
              "      <th>2</th>\n",
              "      <td>21</td>\n",
              "      <td>Private</td>\n",
              "      <td>270043</td>\n",
              "      <td>Some-college</td>\n",
              "      <td>10</td>\n",
              "      <td>Never-married</td>\n",
              "      <td>Other-service</td>\n",
              "      <td>Own-child</td>\n",
              "      <td>White</td>\n",
              "      <td>Female</td>\n",
              "      <td>0</td>\n",
              "      <td>0</td>\n",
              "      <td>16</td>\n",
              "      <td>United-States</td>\n",
              "      <td>&lt;=50K</td>\n",
              "    </tr>\n",
              "    <tr>\n",
              "      <th>3</th>\n",
              "      <td>45</td>\n",
              "      <td>Private</td>\n",
              "      <td>168837</td>\n",
              "      <td>Some-college</td>\n",
              "      <td>10</td>\n",
              "      <td>Married-civ-spouse</td>\n",
              "      <td>Adm-clerical</td>\n",
              "      <td>Wife</td>\n",
              "      <td>White</td>\n",
              "      <td>Female</td>\n",
              "      <td>0</td>\n",
              "      <td>0</td>\n",
              "      <td>24</td>\n",
              "      <td>Canada</td>\n",
              "      <td>&gt;50K</td>\n",
              "    </tr>\n",
              "    <tr>\n",
              "      <th>4</th>\n",
              "      <td>39</td>\n",
              "      <td>Private</td>\n",
              "      <td>297449</td>\n",
              "      <td>Bachelors</td>\n",
              "      <td>13</td>\n",
              "      <td>Married-civ-spouse</td>\n",
              "      <td>Prof-specialty</td>\n",
              "      <td>Husband</td>\n",
              "      <td>White</td>\n",
              "      <td>Non-Female</td>\n",
              "      <td>0</td>\n",
              "      <td>0</td>\n",
              "      <td>40</td>\n",
              "      <td>United-States</td>\n",
              "      <td>&gt;50K</td>\n",
              "    </tr>\n",
              "  </tbody>\n",
              "</table>\n",
              "</div>"
            ],
            "text/plain": [
              "   age  workclass  fnlwgt     education  education-num      marital-status  \\\n",
              "0   36  State-gov  112074     Doctorate             16       Never-married   \n",
              "1   35    Private   32528       HS-grad              9  Married-civ-spouse   \n",
              "2   21    Private  270043  Some-college             10       Never-married   \n",
              "3   45    Private  168837  Some-college             10  Married-civ-spouse   \n",
              "4   39    Private  297449     Bachelors             13  Married-civ-spouse   \n",
              "\n",
              "          occupation   relationship   race  sex_selfID  capital-gain  \\\n",
              "0     Prof-specialty  Not-in-family  White  Non-Female             0   \n",
              "1  Handlers-cleaners        Husband  White  Non-Female             0   \n",
              "2      Other-service      Own-child  White      Female             0   \n",
              "3       Adm-clerical           Wife  White      Female             0   \n",
              "4     Prof-specialty        Husband  White  Non-Female             0   \n",
              "\n",
              "   capital-loss  hours-per-week native-country income  \n",
              "0             0              45  United-States  <=50K  \n",
              "1             0              45  United-States  <=50K  \n",
              "2             0              16  United-States  <=50K  \n",
              "3             0              24         Canada   >50K  \n",
              "4             0              40  United-States   >50K  "
            ]
          },
          "execution_count": 7,
          "metadata": {},
          "output_type": "execute_result"
        }
      ],
      "source": [
        "df.head()"
      ]
    },
    {
      "cell_type": "code",
      "execution_count": 8,
      "metadata": {
        "colab": {
          "base_uri": "https://localhost:8080/"
        },
        "id": "WujQRgrqZ8EQ",
        "outputId": "a109668f-228b-4ba6-d384-c8420c37fee5"
      },
      "outputs": [
        {
          "data": {
            "text/plain": [
              "(7000, 15)"
            ]
          },
          "execution_count": 8,
          "metadata": {},
          "output_type": "execute_result"
        }
      ],
      "source": [
        "df.shape"
      ]
    },
    {
      "cell_type": "markdown",
      "metadata": {
        "id": "h1oqQ_3OZ_U4"
      },
      "source": [
        "## Step 2: Random Sampling of the Data\n",
        "Random sampling from the data using `np.random.choice` and `loc`"
      ]
    },
    {
      "cell_type": "code",
      "execution_count": 9,
      "metadata": {
        "colab": {
          "base_uri": "https://localhost:8080/",
          "height": 328
        },
        "id": "_b1ATdLaaAao",
        "outputId": "27b068c9-834b-46a8-b26d-a3dd66b164a4"
      },
      "outputs": [
        {
          "data": {
            "text/html": [
              "<div>\n",
              "<style scoped>\n",
              "    .dataframe tbody tr th:only-of-type {\n",
              "        vertical-align: middle;\n",
              "    }\n",
              "\n",
              "    .dataframe tbody tr th {\n",
              "        vertical-align: top;\n",
              "    }\n",
              "\n",
              "    .dataframe thead th {\n",
              "        text-align: right;\n",
              "    }\n",
              "</style>\n",
              "<table border=\"1\" class=\"dataframe\">\n",
              "  <thead>\n",
              "    <tr style=\"text-align: right;\">\n",
              "      <th></th>\n",
              "      <th>age</th>\n",
              "      <th>workclass</th>\n",
              "      <th>fnlwgt</th>\n",
              "      <th>education</th>\n",
              "      <th>education-num</th>\n",
              "      <th>marital-status</th>\n",
              "      <th>occupation</th>\n",
              "      <th>relationship</th>\n",
              "      <th>race</th>\n",
              "      <th>sex_selfID</th>\n",
              "      <th>capital-gain</th>\n",
              "      <th>capital-loss</th>\n",
              "      <th>hours-per-week</th>\n",
              "      <th>native-country</th>\n",
              "      <th>income</th>\n",
              "    </tr>\n",
              "  </thead>\n",
              "  <tbody>\n",
              "    <tr>\n",
              "      <th>4646</th>\n",
              "      <td>30</td>\n",
              "      <td>Private</td>\n",
              "      <td>255486</td>\n",
              "      <td>HS-grad</td>\n",
              "      <td>9</td>\n",
              "      <td>Married-civ-spouse</td>\n",
              "      <td>Other-service</td>\n",
              "      <td>Husband</td>\n",
              "      <td>Black</td>\n",
              "      <td>Non-Female</td>\n",
              "      <td>0</td>\n",
              "      <td>0</td>\n",
              "      <td>25</td>\n",
              "      <td>United-States</td>\n",
              "      <td>&lt;=50K</td>\n",
              "    </tr>\n",
              "    <tr>\n",
              "      <th>4931</th>\n",
              "      <td>47</td>\n",
              "      <td>Private</td>\n",
              "      <td>119939</td>\n",
              "      <td>HS-grad</td>\n",
              "      <td>9</td>\n",
              "      <td>Married-civ-spouse</td>\n",
              "      <td>Craft-repair</td>\n",
              "      <td>Husband</td>\n",
              "      <td>White</td>\n",
              "      <td>Non-Female</td>\n",
              "      <td>0</td>\n",
              "      <td>0</td>\n",
              "      <td>40</td>\n",
              "      <td>United-States</td>\n",
              "      <td>&gt;50K</td>\n",
              "    </tr>\n",
              "    <tr>\n",
              "      <th>5702</th>\n",
              "      <td>24</td>\n",
              "      <td>Private</td>\n",
              "      <td>390348</td>\n",
              "      <td>HS-grad</td>\n",
              "      <td>9</td>\n",
              "      <td>Never-married</td>\n",
              "      <td>Transport-moving</td>\n",
              "      <td>Not-in-family</td>\n",
              "      <td>White</td>\n",
              "      <td>Non-Female</td>\n",
              "      <td>0</td>\n",
              "      <td>0</td>\n",
              "      <td>40</td>\n",
              "      <td>United-States</td>\n",
              "      <td>&lt;=50K</td>\n",
              "    </tr>\n",
              "    <tr>\n",
              "      <th>4082</th>\n",
              "      <td>30</td>\n",
              "      <td>Private</td>\n",
              "      <td>168443</td>\n",
              "      <td>HS-grad</td>\n",
              "      <td>9</td>\n",
              "      <td>Separated</td>\n",
              "      <td>Other-service</td>\n",
              "      <td>Unmarried</td>\n",
              "      <td>White</td>\n",
              "      <td>Female</td>\n",
              "      <td>0</td>\n",
              "      <td>0</td>\n",
              "      <td>30</td>\n",
              "      <td>United-States</td>\n",
              "      <td>&lt;=50K</td>\n",
              "    </tr>\n",
              "    <tr>\n",
              "      <th>1635</th>\n",
              "      <td>26</td>\n",
              "      <td>State-gov</td>\n",
              "      <td>208122</td>\n",
              "      <td>Bachelors</td>\n",
              "      <td>13</td>\n",
              "      <td>Never-married</td>\n",
              "      <td>Prof-specialty</td>\n",
              "      <td>Not-in-family</td>\n",
              "      <td>White</td>\n",
              "      <td>Non-Female</td>\n",
              "      <td>0</td>\n",
              "      <td>0</td>\n",
              "      <td>15</td>\n",
              "      <td>United-States</td>\n",
              "      <td>&lt;=50K</td>\n",
              "    </tr>\n",
              "  </tbody>\n",
              "</table>\n",
              "</div>"
            ],
            "text/plain": [
              "      age  workclass  fnlwgt  education  education-num      marital-status  \\\n",
              "4646   30    Private  255486    HS-grad              9  Married-civ-spouse   \n",
              "4931   47    Private  119939    HS-grad              9  Married-civ-spouse   \n",
              "5702   24    Private  390348    HS-grad              9       Never-married   \n",
              "4082   30    Private  168443    HS-grad              9           Separated   \n",
              "1635   26  State-gov  208122  Bachelors             13       Never-married   \n",
              "\n",
              "            occupation   relationship   race  sex_selfID  capital-gain  \\\n",
              "4646     Other-service        Husband  Black  Non-Female             0   \n",
              "4931      Craft-repair        Husband  White  Non-Female             0   \n",
              "5702  Transport-moving  Not-in-family  White  Non-Female             0   \n",
              "4082     Other-service      Unmarried  White      Female             0   \n",
              "1635    Prof-specialty  Not-in-family  White  Non-Female             0   \n",
              "\n",
              "      capital-loss  hours-per-week native-country income  \n",
              "4646             0              25  United-States  <=50K  \n",
              "4931             0              40  United-States   >50K  \n",
              "5702             0              40  United-States  <=50K  \n",
              "4082             0              30  United-States  <=50K  \n",
              "1635             0              15  United-States  <=50K  "
            ]
          },
          "execution_count": 9,
          "metadata": {},
          "output_type": "execute_result"
        }
      ],
      "source": [
        "# sampling using numpy\n",
        "percentage = 0.3\n",
        "num_rows = df.shape[0]\n",
        "indices = np.random.choice(df.index, size=int(percentage*num_rows), replace=False)\n",
        "\n",
        "df_subset = df.loc[indices]\n",
        "\n",
        "# sampling using pandas\n",
        "percentage = 0.3\n",
        "num_rows = df.shape[0]\n",
        "\n",
        "df_subset = df.sample(int(percentage*num_rows))\n",
        "df_subset.head()"
      ]
    },
    {
      "cell_type": "markdown",
      "metadata": {
        "id": "bJdpO-AOas7j"
      },
      "source": [
        "## Step 3:  Filter a DataFrame by Column Values"
      ]
    },
    {
      "cell_type": "code",
      "execution_count": 10,
      "metadata": {
        "colab": {
          "base_uri": "https://localhost:8080/",
          "height": 458
        },
        "id": "gUN5BrGyatmr",
        "outputId": "7562c1fa-3715-41f6-ce6a-7a96fdec1a53"
      },
      "outputs": [
        {
          "data": {
            "text/plain": [
              "0       False\n",
              "1        True\n",
              "2        True\n",
              "3        True\n",
              "4        True\n",
              "        ...  \n",
              "6995     True\n",
              "6996     True\n",
              "6997    False\n",
              "6998     True\n",
              "6999     True\n",
              "Name: workclass, Length: 7000, dtype: bool"
            ]
          },
          "execution_count": 10,
          "metadata": {},
          "output_type": "execute_result"
        }
      ],
      "source": [
        "condition = df['workclass'] =='Private'\n",
        "condition"
      ]
    },
    {
      "cell_type": "code",
      "execution_count": 11,
      "metadata": {
        "colab": {
          "base_uri": "https://localhost:8080/",
          "height": 328
        },
        "id": "ttk-W_MLavCi",
        "outputId": "7582dd69-3193-42ee-e16e-409a1da1b328"
      },
      "outputs": [
        {
          "data": {
            "text/html": [
              "<div>\n",
              "<style scoped>\n",
              "    .dataframe tbody tr th:only-of-type {\n",
              "        vertical-align: middle;\n",
              "    }\n",
              "\n",
              "    .dataframe tbody tr th {\n",
              "        vertical-align: top;\n",
              "    }\n",
              "\n",
              "    .dataframe thead th {\n",
              "        text-align: right;\n",
              "    }\n",
              "</style>\n",
              "<table border=\"1\" class=\"dataframe\">\n",
              "  <thead>\n",
              "    <tr style=\"text-align: right;\">\n",
              "      <th></th>\n",
              "      <th>age</th>\n",
              "      <th>workclass</th>\n",
              "      <th>fnlwgt</th>\n",
              "      <th>education</th>\n",
              "      <th>education-num</th>\n",
              "      <th>marital-status</th>\n",
              "      <th>occupation</th>\n",
              "      <th>relationship</th>\n",
              "      <th>race</th>\n",
              "      <th>sex_selfID</th>\n",
              "      <th>capital-gain</th>\n",
              "      <th>capital-loss</th>\n",
              "      <th>hours-per-week</th>\n",
              "      <th>native-country</th>\n",
              "      <th>income</th>\n",
              "    </tr>\n",
              "  </thead>\n",
              "  <tbody>\n",
              "    <tr>\n",
              "      <th>1</th>\n",
              "      <td>35</td>\n",
              "      <td>Private</td>\n",
              "      <td>32528</td>\n",
              "      <td>HS-grad</td>\n",
              "      <td>9</td>\n",
              "      <td>Married-civ-spouse</td>\n",
              "      <td>Handlers-cleaners</td>\n",
              "      <td>Husband</td>\n",
              "      <td>White</td>\n",
              "      <td>Non-Female</td>\n",
              "      <td>0</td>\n",
              "      <td>0</td>\n",
              "      <td>45</td>\n",
              "      <td>United-States</td>\n",
              "      <td>&lt;=50K</td>\n",
              "    </tr>\n",
              "    <tr>\n",
              "      <th>2</th>\n",
              "      <td>21</td>\n",
              "      <td>Private</td>\n",
              "      <td>270043</td>\n",
              "      <td>Some-college</td>\n",
              "      <td>10</td>\n",
              "      <td>Never-married</td>\n",
              "      <td>Other-service</td>\n",
              "      <td>Own-child</td>\n",
              "      <td>White</td>\n",
              "      <td>Female</td>\n",
              "      <td>0</td>\n",
              "      <td>0</td>\n",
              "      <td>16</td>\n",
              "      <td>United-States</td>\n",
              "      <td>&lt;=50K</td>\n",
              "    </tr>\n",
              "    <tr>\n",
              "      <th>3</th>\n",
              "      <td>45</td>\n",
              "      <td>Private</td>\n",
              "      <td>168837</td>\n",
              "      <td>Some-college</td>\n",
              "      <td>10</td>\n",
              "      <td>Married-civ-spouse</td>\n",
              "      <td>Adm-clerical</td>\n",
              "      <td>Wife</td>\n",
              "      <td>White</td>\n",
              "      <td>Female</td>\n",
              "      <td>0</td>\n",
              "      <td>0</td>\n",
              "      <td>24</td>\n",
              "      <td>Canada</td>\n",
              "      <td>&gt;50K</td>\n",
              "    </tr>\n",
              "    <tr>\n",
              "      <th>4</th>\n",
              "      <td>39</td>\n",
              "      <td>Private</td>\n",
              "      <td>297449</td>\n",
              "      <td>Bachelors</td>\n",
              "      <td>13</td>\n",
              "      <td>Married-civ-spouse</td>\n",
              "      <td>Prof-specialty</td>\n",
              "      <td>Husband</td>\n",
              "      <td>White</td>\n",
              "      <td>Non-Female</td>\n",
              "      <td>0</td>\n",
              "      <td>0</td>\n",
              "      <td>40</td>\n",
              "      <td>United-States</td>\n",
              "      <td>&gt;50K</td>\n",
              "    </tr>\n",
              "    <tr>\n",
              "      <th>5</th>\n",
              "      <td>27</td>\n",
              "      <td>Private</td>\n",
              "      <td>233421</td>\n",
              "      <td>Some-college</td>\n",
              "      <td>10</td>\n",
              "      <td>Never-married</td>\n",
              "      <td>Adm-clerical</td>\n",
              "      <td>Own-child</td>\n",
              "      <td>White</td>\n",
              "      <td>Non-Female</td>\n",
              "      <td>0</td>\n",
              "      <td>0</td>\n",
              "      <td>20</td>\n",
              "      <td>United-States</td>\n",
              "      <td>&lt;=50K</td>\n",
              "    </tr>\n",
              "  </tbody>\n",
              "</table>\n",
              "</div>"
            ],
            "text/plain": [
              "   age workclass  fnlwgt     education  education-num      marital-status  \\\n",
              "1   35   Private   32528       HS-grad              9  Married-civ-spouse   \n",
              "2   21   Private  270043  Some-college             10       Never-married   \n",
              "3   45   Private  168837  Some-college             10  Married-civ-spouse   \n",
              "4   39   Private  297449     Bachelors             13  Married-civ-spouse   \n",
              "5   27   Private  233421  Some-college             10       Never-married   \n",
              "\n",
              "          occupation relationship   race  sex_selfID  capital-gain  \\\n",
              "1  Handlers-cleaners      Husband  White  Non-Female             0   \n",
              "2      Other-service    Own-child  White      Female             0   \n",
              "3       Adm-clerical         Wife  White      Female             0   \n",
              "4     Prof-specialty      Husband  White  Non-Female             0   \n",
              "5       Adm-clerical    Own-child  White  Non-Female             0   \n",
              "\n",
              "   capital-loss  hours-per-week native-country income  \n",
              "1             0              45  United-States  <=50K  \n",
              "2             0              16  United-States  <=50K  \n",
              "3             0              24         Canada   >50K  \n",
              "4             0              40  United-States   >50K  \n",
              "5             0              20  United-States  <=50K  "
            ]
          },
          "execution_count": 11,
          "metadata": {},
          "output_type": "execute_result"
        }
      ],
      "source": [
        "df_private = df[condition]\n",
        "df_private.head()"
      ]
    },
    {
      "cell_type": "markdown",
      "metadata": {
        "id": "WNgpdL8na65h"
      },
      "source": [
        "## Step 4. Data Analysis using Filtering"
      ]
    },
    {
      "cell_type": "code",
      "execution_count": 12,
      "metadata": {
        "colab": {
          "base_uri": "https://localhost:8080/"
        },
        "id": "DODKWxqqa7Ws",
        "outputId": "3f46935a-047d-4d1a-fd8d-19ff72629727"
      },
      "outputs": [
        {
          "data": {
            "text/plain": [
              "36.764213309828115"
            ]
          },
          "execution_count": 12,
          "metadata": {},
          "output_type": "execute_result"
        }
      ],
      "source": [
        "condition = df['sex_selfID']=='Female'\n",
        "df[condition]['age'].mean()"
      ]
    },
    {
      "cell_type": "code",
      "execution_count": 13,
      "metadata": {
        "colab": {
          "base_uri": "https://localhost:8080/"
        },
        "id": "WqDTNGKibPAR",
        "outputId": "b12f2616-a5e3-4c4d-d687-db13d970052b"
      },
      "outputs": [
        {
          "data": {
            "text/plain": [
              "126"
            ]
          },
          "execution_count": 13,
          "metadata": {},
          "output_type": "execute_result"
        }
      ],
      "source": [
        "condition1 = df['workclass'] == 'Local-gov'\n",
        "condition2 = df['hours-per-week'] > 40\n",
        "condition = condition1 & condition2\n",
        "\n",
        "df_local = df[condition]\n",
        "rows = df_local.shape[0]\n",
        "rows"
      ]
    }
  ],
  "metadata": {
    "colab": {
      "provenance": []
    },
    "kernelspec": {
      "display_name": "base",
      "language": "python",
      "name": "python3"
    },
    "language_info": {
      "codemirror_mode": {
        "name": "ipython",
        "version": 3
      },
      "file_extension": ".py",
      "mimetype": "text/x-python",
      "name": "python",
      "nbconvert_exporter": "python",
      "pygments_lexer": "ipython3",
      "version": "3.12.4"
    }
  },
  "nbformat": 4,
  "nbformat_minor": 0
}
