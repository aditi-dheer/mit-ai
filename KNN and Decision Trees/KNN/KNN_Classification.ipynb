{
 "cells": [
  {
   "cell_type": "markdown",
   "metadata": {},
   "source": [
    "# Implement KNN for Iris Classification\n",
    "\n",
    "We are going to use Scikit-learn to build a KNN Classification model to classify iris flowers using the popular \"Iris\" data set."
   ]
  },
  {
   "cell_type": "markdown",
   "metadata": {
    "nbgrader": {
     "grade": false,
     "grade_id": "cell-3e747cf31a39895c",
     "locked": true,
     "schema_version": 1,
     "solution": false
    }
   },
   "source": [
    "## Import Packages"
   ]
  },
  {
   "cell_type": "code",
   "execution_count": 1,
   "metadata": {
    "nbgrader": {
     "grade": false,
     "grade_id": "cell-c5f7e10c9b80a142",
     "locked": true,
     "schema_version": 1,
     "solution": false
    }
   },
   "outputs": [],
   "source": [
    "import pandas as pd\n",
    "from helper2 import visualize_knn\n",
    "import os"
   ]
  },
  {
   "cell_type": "markdown",
   "metadata": {},
   "source": [
    "We will also import the Scikit-learn `KNeighborsClassifier`, the `train_test_split()` function for splitting the data into training and test sets, and the metric `accuracy_score` to evaluate our model."
   ]
  },
  {
   "cell_type": "code",
   "execution_count": 2,
   "metadata": {},
   "outputs": [],
   "source": [
    "from sklearn.neighbors import KNeighborsClassifier\n",
    "from sklearn.model_selection import train_test_split\n",
    "from sklearn.metrics import accuracy_score"
   ]
  },
  {
   "cell_type": "markdown",
   "metadata": {},
   "source": [
    "## Step 1: Build the DataFrame and Define the ML Problem\n",
    "\n",
    "####  Load a Data Set and Save it as a Pandas DataFrame"
   ]
  },
  {
   "cell_type": "code",
   "execution_count": 3,
   "metadata": {},
   "outputs": [],
   "source": [
    "filename = os.path.join(os.getcwd(), \"..\", \"..\", \"data\", \"Iris_Data.csv\")\n",
    "df_iris = pd.read_csv(filename, header=0)"
   ]
  },
  {
   "cell_type": "markdown",
   "metadata": {},
   "source": [
    "#### Inspect the Data\n",
    "Rather than examining the full dataset, we will just examine ten randomly selected items."
   ]
  },
  {
   "cell_type": "code",
   "execution_count": 4,
   "metadata": {},
   "outputs": [
    {
     "name": "stdout",
     "output_type": "stream",
     "text": [
      "(150, 5)\n"
     ]
    },
    {
     "data": {
      "text/html": [
       "<div>\n",
       "<style scoped>\n",
       "    .dataframe tbody tr th:only-of-type {\n",
       "        vertical-align: middle;\n",
       "    }\n",
       "\n",
       "    .dataframe tbody tr th {\n",
       "        vertical-align: top;\n",
       "    }\n",
       "\n",
       "    .dataframe thead th {\n",
       "        text-align: right;\n",
       "    }\n",
       "</style>\n",
       "<table border=\"1\" class=\"dataframe\">\n",
       "  <thead>\n",
       "    <tr style=\"text-align: right;\">\n",
       "      <th></th>\n",
       "      <th>sepal_length</th>\n",
       "      <th>sepal_width</th>\n",
       "      <th>petal_length</th>\n",
       "      <th>petal_width</th>\n",
       "      <th>species</th>\n",
       "    </tr>\n",
       "  </thead>\n",
       "  <tbody>\n",
       "    <tr>\n",
       "      <th>14</th>\n",
       "      <td>5.8</td>\n",
       "      <td>4.0</td>\n",
       "      <td>1.2</td>\n",
       "      <td>0.2</td>\n",
       "      <td>Iris-setosa</td>\n",
       "    </tr>\n",
       "    <tr>\n",
       "      <th>98</th>\n",
       "      <td>5.1</td>\n",
       "      <td>2.5</td>\n",
       "      <td>3.0</td>\n",
       "      <td>1.1</td>\n",
       "      <td>Iris-versicolor</td>\n",
       "    </tr>\n",
       "    <tr>\n",
       "      <th>75</th>\n",
       "      <td>6.6</td>\n",
       "      <td>3.0</td>\n",
       "      <td>4.4</td>\n",
       "      <td>1.4</td>\n",
       "      <td>Iris-versicolor</td>\n",
       "    </tr>\n",
       "    <tr>\n",
       "      <th>16</th>\n",
       "      <td>5.4</td>\n",
       "      <td>3.9</td>\n",
       "      <td>1.3</td>\n",
       "      <td>0.4</td>\n",
       "      <td>Iris-setosa</td>\n",
       "    </tr>\n",
       "    <tr>\n",
       "      <th>131</th>\n",
       "      <td>7.9</td>\n",
       "      <td>3.8</td>\n",
       "      <td>6.4</td>\n",
       "      <td>2.0</td>\n",
       "      <td>Iris-virginica</td>\n",
       "    </tr>\n",
       "    <tr>\n",
       "      <th>56</th>\n",
       "      <td>6.3</td>\n",
       "      <td>3.3</td>\n",
       "      <td>4.7</td>\n",
       "      <td>1.6</td>\n",
       "      <td>Iris-versicolor</td>\n",
       "    </tr>\n",
       "    <tr>\n",
       "      <th>141</th>\n",
       "      <td>6.9</td>\n",
       "      <td>3.1</td>\n",
       "      <td>5.1</td>\n",
       "      <td>2.3</td>\n",
       "      <td>Iris-virginica</td>\n",
       "    </tr>\n",
       "    <tr>\n",
       "      <th>44</th>\n",
       "      <td>5.1</td>\n",
       "      <td>3.8</td>\n",
       "      <td>1.9</td>\n",
       "      <td>0.4</td>\n",
       "      <td>Iris-setosa</td>\n",
       "    </tr>\n",
       "    <tr>\n",
       "      <th>29</th>\n",
       "      <td>4.7</td>\n",
       "      <td>3.2</td>\n",
       "      <td>1.6</td>\n",
       "      <td>0.2</td>\n",
       "      <td>Iris-setosa</td>\n",
       "    </tr>\n",
       "    <tr>\n",
       "      <th>120</th>\n",
       "      <td>6.9</td>\n",
       "      <td>3.2</td>\n",
       "      <td>5.7</td>\n",
       "      <td>2.3</td>\n",
       "      <td>Iris-virginica</td>\n",
       "    </tr>\n",
       "  </tbody>\n",
       "</table>\n",
       "</div>"
      ],
      "text/plain": [
       "     sepal_length  sepal_width  petal_length  petal_width          species\n",
       "14            5.8          4.0           1.2          0.2      Iris-setosa\n",
       "98            5.1          2.5           3.0          1.1  Iris-versicolor\n",
       "75            6.6          3.0           4.4          1.4  Iris-versicolor\n",
       "16            5.4          3.9           1.3          0.4      Iris-setosa\n",
       "131           7.9          3.8           6.4          2.0   Iris-virginica\n",
       "56            6.3          3.3           4.7          1.6  Iris-versicolor\n",
       "141           6.9          3.1           5.1          2.3   Iris-virginica\n",
       "44            5.1          3.8           1.9          0.4      Iris-setosa\n",
       "29            4.7          3.2           1.6          0.2      Iris-setosa\n",
       "120           6.9          3.2           5.7          2.3   Iris-virginica"
      ]
     },
     "execution_count": 4,
     "metadata": {},
     "output_type": "execute_result"
    }
   ],
   "source": [
    "# shape\n",
    "print(df_iris.shape)\n",
    "\n",
    "# print a few random examples (rows)\n",
    "df_iris.sample(n=10, replace=False, random_state=1)"
   ]
  },
  {
   "cell_type": "markdown",
   "metadata": {},
   "source": [
    "#### Define the Label\n",
    "\n",
    "The data set will be used to predict whether an iris flower belongs to one of three species. This is an example of supervised learning and is a classification problem. Since a flower can be classified as belonging to one of three specifies (iris_setosa, iris-versicolor and iris-virginica), this is a multi-class classification problem. In our data set, the label will be the `species` column."
   ]
  },
  {
   "cell_type": "markdown",
   "metadata": {},
   "source": [
    "#### Identify Features\n",
    "\n",
    "Notice that the dataset contains four features of an iris flower: `sepal_length`, `sepal_width`, `petal_length` and `petal_width`."
   ]
  },
  {
   "cell_type": "markdown",
   "metadata": {},
   "source": [
    "#### Visualize the KNN Algorithm\n",
    "\n",
    "The KNN algorithm predicts the class label of an unlabeled example by finding the $k$ closest labeled examples. The most common class label among these $k$ examples is chosen to be the predicted class label of the unlabeled example. (Note that examples are also referred to as data points).\n",
    "\n",
    "Let's visualize this. To make the visualization simpler, rather than attempting to plot examples using all features, we are plotting examples with two dimensions (or two features).\n",
    "\n",
    "The following code cell plots 50 examples from the iris dataset using two features: petal length, and petal width."
   ]
  },
  {
   "cell_type": "code",
   "execution_count": 5,
   "metadata": {},
   "outputs": [
    {
     "name": "stdout",
     "output_type": "stream",
     "text": [
      "3\n"
     ]
    },
    {
     "data": {
      "image/png": "[encoded data removed]",
      "text/plain": [
       "<Figure size 640x480 with 1 Axes>"
      ]
     },
     "metadata": {},
     "output_type": "display_data"
    }
   ],
   "source": [
    "number_of_neighbors = 3\n",
    "visualize_knn(number_of_neighbors)"
   ]
  },
  {
   "cell_type": "markdown",
   "metadata": {},
   "source": [
    "## Step 2: Create Labeled Examples from the Data Set for the Model Training Phase\n",
    "\n",
    "We will use only two of the four features to begin with. The code cell below carries out the following steps:\n",
    "\n",
    "* Takes the `petal_length` and `petal_width` columns from DataFrame `df_iris` and assigns them to the variable `X`. These are our <b>features</b>. \n",
    "* Takes the `species` column from `dfiris` and assigns it to the variable `y`. This is our <b>label</b>.\n",
    "* Prints the values of `X` and `y`\n"
   ]
  },
  {
   "cell_type": "code",
   "execution_count": 6,
   "metadata": {
    "nbgrader": {
     "grade": false,
     "grade_id": "cell-922378fd6fbb2a87",
     "locked": true,
     "schema_version": 1,
     "solution": false
    }
   },
   "outputs": [
    {
     "name": "stdout",
     "output_type": "stream",
     "text": [
      "Number of Examples: 150\n",
      "Number of Features: 2\n",
      "\n",
      "Features:\n",
      "\n",
      "     petal_length  petal_width\n",
      "0             1.4          0.2\n",
      "1             1.4          0.2\n",
      "2             1.3          0.2\n",
      "3             1.5          0.2\n",
      "4             1.4          0.2\n",
      "..            ...          ...\n",
      "145           5.2          2.3\n",
      "146           5.0          1.9\n",
      "147           5.2          2.0\n",
      "148           5.4          2.3\n",
      "149           5.1          1.8\n",
      "\n",
      "[150 rows x 2 columns]\n",
      "\n",
      "Labels:\n",
      "\n",
      "0         Iris-setosa\n",
      "1         Iris-setosa\n",
      "2         Iris-setosa\n",
      "3         Iris-setosa\n",
      "4         Iris-setosa\n",
      "            ...      \n",
      "145    Iris-virginica\n",
      "146    Iris-virginica\n",
      "147    Iris-virginica\n",
      "148    Iris-virginica\n",
      "149    Iris-virginica\n",
      "Name: species, Length: 150, dtype: object\n"
     ]
    }
   ],
   "source": [
    "X = df_iris[['petal_length', 'petal_width']]\n",
    "y = df_iris['species'] \n",
    "\n",
    "print(\"Number of Examples: \" + str(X.shape[0]))\n",
    "print(\"Number of Features: \" + str(X.shape[1]))\n",
    "print(\"\\nFeatures:\\n\")\n",
    "print(X)\n",
    "print(\"\\nLabels:\\n\")\n",
    "print(y)"
   ]
  },
  {
   "cell_type": "markdown",
   "metadata": {},
   "source": [
    "## Step 3: Create Training and Test Data Sets\n",
    "\n",
    "Now that we have specified examples, we will need to split them into a training set that we will use to train our model, and a test set, which we will use to understand the performance of our model on new data. \n",
    "\n",
    "Scikit-learn has a convenient function ```train_test_split()``` to do all this for us in a systematic way. \n",
    "\n",
    "#### Train and Test Data Set Sizes:\n",
    "\n",
    "The `train_test_split()` function splits a dataset randomly, such that approximately 25% of the data winds up in the test set and the remaining 75% in the training set. You can also specify how much of the data set should be used as a test set using the parameter `test_size.`\n",
    "\n",
    "Because ```train_test_split()``` generates random splits of the input data, each time we call the function we will get a different split.  Sometimes it is useful, for the purposes of code development, to be able to get reproducible random numbers or random splits, which can then be relaxed once one wishes to generate statistics over many random runs.     With ```train_test_split()```, this can be accomplished by using the ```random_state``` option; if specified with that state as an integer, then the <b>same</b> random split will be generated each time the function is called (until one changes the value of the integer).  This is known as providing a seed to the pseudo-random number generator that is used by ```train_test_split()```.\n",
    "\n",
    "In our case, we want to split ```X``` and ```y``` into coordinated training and test sets, so we will use a seed.\n",
    "\n",
    "#### Output:\n",
    "\n",
    "The  ```train_test_split()``` function will return four outputs (four subsets of the data) in the following order `X_train`, `X_test`, `y_train`, `y_test`. In the code cell below, we have assigned these values to the proper variable names, indicating what each data subset will be used for in the training and evaluation process.\n",
    "\n",
    "Note that `X_train` corresponds to features that we will use to train our model,  and `y_train` corresponds to labels that we will use to train our model. \n",
    "\n",
    "Likewise, `X_test` corresponds to the features we will use to test our model, and `y_test` corresponds to the labels that we will use to determine whether the predictions our model makes on `X_test` are accurate.\n",
    "\n",
    "In summary:\n",
    "\n",
    "1. We will train the KNN model on `X_train` and `y_train`.\n",
    "\n",
    "2. We will then apply the trained model to `X_test` to produce predicted class labels.\n",
    "\n",
    "3. For evaluation, we will compare these predicted class labels against the true labels provided in `y_test`."
   ]
  },
  {
   "cell_type": "code",
   "execution_count": 7,
   "metadata": {},
   "outputs": [],
   "source": [
    "X_train, X_test, y_train, y_test = train_test_split(X, y, test_size=0.2, random_state=4)"
   ]
  },
  {
   "cell_type": "markdown",
   "metadata": {},
   "source": [
    "\n",
    "## Step 4: Train the Model: Fit a KNN Model to the Training Set\n",
    "\n",
    "Scikit-learn works by creating objects that represent a model: in this case, the model is a KNN classification model (also known as a classifier). The basic workflow is to first create a ```KNeighborsClassifier``` model object, specifying all necessary model configurations, such as hyperparameter values. Next is to fit the model (train the model) to the training data; all model objects that one creates using `sklearn` possess a ```fit()``` method to accomplish this.  You can then use the model object to make predictions on the test data using the `predict()` method. \n",
    "\n",
    "The code cell below:\n",
    "\n",
    "1. Creates a ```KNeighborsClassifier``` object, specifying the number of neighbors $k$ to be three, and assigns the result to the variable `model`. \n",
    "\n",
    "2. Calls the ```fit()``` method on ```model``` to fit the model to the training data. The first argument should be ```X_train``` and the second ```y_train```. \n",
    "\n",
    "3. Uses the trained model to make predictions on unlabeled examples contained in `X_test`. The cell below uses the ```predict()``` method on ```model``` with the argument ```X_test``` to use the trained model to predict values for the test data. It stores the outcome in the variable ```prediction```. We will compare these values to ```y_test``` later."
   ]
  },
  {
   "cell_type": "code",
   "execution_count": 8,
   "metadata": {},
   "outputs": [
    {
     "name": "stdout",
     "output_type": "stream",
     "text": [
      "['Iris-virginica' 'Iris-setosa' 'Iris-virginica' 'Iris-virginica'\n",
      " 'Iris-virginica' 'Iris-versicolor' 'Iris-virginica' 'Iris-setosa'\n",
      " 'Iris-setosa' 'Iris-versicolor' 'Iris-setosa' 'Iris-setosa' 'Iris-setosa'\n",
      " 'Iris-versicolor' 'Iris-virginica' 'Iris-setosa' 'Iris-versicolor'\n",
      " 'Iris-setosa' 'Iris-setosa' 'Iris-virginica' 'Iris-setosa'\n",
      " 'Iris-virginica' 'Iris-versicolor' 'Iris-setosa' 'Iris-setosa'\n",
      " 'Iris-setosa' 'Iris-setosa' 'Iris-setosa' 'Iris-setosa' 'Iris-virginica']\n"
     ]
    }
   ],
   "source": [
    "# Initialize the model\n",
    "model = KNeighborsClassifier(n_neighbors=3)\n",
    "\n",
    "# Train the model using the training sets\n",
    "model.fit(X_train, y_train) \n",
    "\n",
    "# Make predictions on the test set\n",
    "prediction= model.predict(X_test) \n",
    "\n",
    "print(prediction)"
   ]
  },
  {
   "cell_type": "markdown",
   "metadata": {},
   "source": [
    "## Step 5: Check the Accuracy of the Model"
   ]
  },
  {
   "cell_type": "code",
   "execution_count": 9,
   "metadata": {},
   "outputs": [
    {
     "name": "stdout",
     "output_type": "stream",
     "text": [
      "Accuracy score of model: 0.9333333333333333\n"
     ]
    }
   ],
   "source": [
    "# Compute and print model's accuracy score\n",
    "score = accuracy_score(y_test, prediction)\n",
    "print('Accuracy score of model: ' + str(score))"
   ]
  },
  {
   "cell_type": "markdown",
   "metadata": {},
   "source": [
    "## Step 6: Train a New KNN Model on All Features\n",
    "\n",
    "We just trained on two features in the iris data set. Now let's train on all features and examine the accuracy score for the new model.\n",
    "\n",
    "Let's create new labeled examples. The code cell below carries out the following steps:\n",
    "\n",
    "* Uses all features from DataFrame `df_iris` and assigns them to the variable `X`. \n",
    "* Extracts the `species` data from `df_iris` and assigns it to the variable `y`. \n",
    "* Prints the values of `X` and `y`\n",
    "\n"
   ]
  },
  {
   "cell_type": "code",
   "execution_count": 10,
   "metadata": {},
   "outputs": [
    {
     "name": "stdout",
     "output_type": "stream",
     "text": [
      "     sepal_length  sepal_width  petal_length  petal_width\n",
      "0             5.1          3.5           1.4          0.2\n",
      "1             4.9          3.0           1.4          0.2\n",
      "2             4.7          3.2           1.3          0.2\n",
      "3             4.6          3.1           1.5          0.2\n",
      "4             5.0          3.6           1.4          0.2\n",
      "..            ...          ...           ...          ...\n",
      "145           6.7          3.0           5.2          2.3\n",
      "146           6.3          2.5           5.0          1.9\n",
      "147           6.5          3.0           5.2          2.0\n",
      "148           6.2          3.4           5.4          2.3\n",
      "149           5.9          3.0           5.1          1.8\n",
      "\n",
      "[150 rows x 4 columns]\n",
      "0         Iris-setosa\n",
      "1         Iris-setosa\n",
      "2         Iris-setosa\n",
      "3         Iris-setosa\n",
      "4         Iris-setosa\n",
      "            ...      \n",
      "145    Iris-virginica\n",
      "146    Iris-virginica\n",
      "147    Iris-virginica\n",
      "148    Iris-virginica\n",
      "149    Iris-virginica\n",
      "Name: species, Length: 150, dtype: object\n"
     ]
    }
   ],
   "source": [
    "X = df_iris[['sepal_length', 'sepal_width', 'petal_length', 'petal_width']]\n",
    "y = df_iris['species']\n",
    "print(X)\n",
    "print(y)"
   ]
  },
  {
   "cell_type": "markdown",
   "metadata": {},
   "source": [
    "The code cell below creates new train and test sets."
   ]
  },
  {
   "cell_type": "code",
   "execution_count": 11,
   "metadata": {},
   "outputs": [],
   "source": [
    "X_train, X_test, y_train, y_test = train_test_split(X, y, test_size=0.2, random_state=4)"
   ]
  },
  {
   "cell_type": "markdown",
   "metadata": {},
   "source": [
    "The code cell below trains the model on the training data, uses the model to make predictions on the test data and evaluates the model by obtaining the model's accuracy."
   ]
  },
  {
   "cell_type": "code",
   "execution_count": 12,
   "metadata": {},
   "outputs": [
    {
     "name": "stdout",
     "output_type": "stream",
     "text": [
      "Accuracy score of model: 0.9666666666666667\n"
     ]
    }
   ],
   "source": [
    "# Initialize the model\n",
    "model = KNeighborsClassifier(n_neighbors=3)\n",
    "\n",
    "# Train the model using the training sets\n",
    "model.fit(X_train, y_train) \n",
    "\n",
    "# Make predictions on the test set\n",
    "prediction= model.predict(X_test) \n",
    "\n",
    "# Compute and print model's accuracy score\n",
    "score = accuracy_score(y_test, prediction)\n",
    "print('Accuracy score of model: ' + str(score))\n",
    "    "
   ]
  }
 ],
 "metadata": {
  "anaconda-cloud": {},
  "kernelspec": {
   "display_name": "base",
   "language": "python",
   "name": "python3"
  },
  "language_info": {
   "codemirror_mode": {
    "name": "ipython",
    "version": 3
   },
   "file_extension": ".py",
   "mimetype": "text/x-python",
   "name": "python",
   "nbconvert_exporter": "python",
   "pygments_lexer": "ipython3",
   "version": "3.12.4"
  },
  "toc": {
   "base_numbering": 1,
   "nav_menu": {},
   "number_sections": false,
   "sideBar": true,
   "skip_h1_title": false,
   "title_cell": "Table of Contents",
   "title_sidebar": "Contents",
   "toc_cell": false,
   "toc_position": {},
   "toc_section_display": true,
   "toc_window_display": false
  },
  "varInspector": {
   "cols": {
    "lenName": 16,
    "lenType": 16,
    "lenVar": 40
   },
   "kernels_config": {
    "python": {
     "delete_cmd_postfix": "",
     "delete_cmd_prefix": "del ",
     "library": "var_list.py",
     "varRefreshCmd": "print(var_dic_list())"
    },
    "r": {
     "delete_cmd_postfix": ") ",
     "delete_cmd_prefix": "rm(",
     "library": "var_list.r",
     "varRefreshCmd": "cat(var_dic_list()) "
    }
   },
   "types_to_exclude": [
    "module",
    "function",
    "builtin_function_or_method",
    "instance",
    "_Feature"
   ],
   "window_display": false
  }
 },
 "nbformat": 4,
 "nbformat_minor": 1
}
